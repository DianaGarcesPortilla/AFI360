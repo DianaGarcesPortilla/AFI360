{
 "cells": [
  {
   "cell_type": "code",
   "execution_count": 4,
   "metadata": {},
   "outputs": [
    {
     "name": "stdout",
     "output_type": "stream",
     "text": [
      "Requirement already satisfied: aif360[LawSchoolGPA] in /opt/conda/lib/python3.7/site-packages (0.5.0)\n",
      "Requirement already satisfied: numpy>=1.16 in /opt/conda/lib/python3.7/site-packages (from aif360[LawSchoolGPA]) (1.18.4)\n",
      "Requirement already satisfied: scipy>=1.2.0 in /opt/conda/lib/python3.7/site-packages (from aif360[LawSchoolGPA]) (1.4.1)\n",
      "Requirement already satisfied: pandas>=0.24.0 in /opt/conda/lib/python3.7/site-packages (from aif360[LawSchoolGPA]) (1.0.3)\n",
      "Requirement already satisfied: scikit-learn>=1.0 in /opt/conda/lib/python3.7/site-packages (from aif360[LawSchoolGPA]) (1.0.2)\n",
      "Requirement already satisfied: matplotlib in /opt/conda/lib/python3.7/site-packages (from aif360[LawSchoolGPA]) (3.2.1)\n",
      "Collecting tempeh (from aif360[LawSchoolGPA])\n",
      "  Downloading tempeh-0.1.12-py3-none-any.whl (39 kB)\n",
      "Requirement already satisfied: python-dateutil>=2.6.1 in /opt/conda/lib/python3.7/site-packages (from pandas>=0.24.0->aif360[LawSchoolGPA]) (2.8.1)\n",
      "Requirement already satisfied: pytz>=2017.2 in /opt/conda/lib/python3.7/site-packages (from pandas>=0.24.0->aif360[LawSchoolGPA]) (2020.1)\n",
      "Requirement already satisfied: joblib>=0.11 in /opt/conda/lib/python3.7/site-packages (from scikit-learn>=1.0->aif360[LawSchoolGPA]) (0.14.1)\n",
      "Requirement already satisfied: threadpoolctl>=2.0.0 in /opt/conda/lib/python3.7/site-packages (from scikit-learn>=1.0->aif360[LawSchoolGPA]) (3.1.0)\n",
      "Requirement already satisfied: cycler>=0.10 in /opt/conda/lib/python3.7/site-packages (from matplotlib->aif360[LawSchoolGPA]) (0.10.0)\n",
      "Requirement already satisfied: kiwisolver>=1.0.1 in /opt/conda/lib/python3.7/site-packages (from matplotlib->aif360[LawSchoolGPA]) (1.2.0)\n",
      "Requirement already satisfied: pyparsing!=2.0.4,!=2.1.2,!=2.1.6,>=2.0.1 in /opt/conda/lib/python3.7/site-packages (from matplotlib->aif360[LawSchoolGPA]) (2.4.7)\n",
      "Collecting memory-profiler (from tempeh->aif360[LawSchoolGPA])\n",
      "  Downloading memory_profiler-0.61.0-py3-none-any.whl (31 kB)\n",
      "Collecting pytest (from tempeh->aif360[LawSchoolGPA])\n",
      "  Obtaining dependency information for pytest from https://files.pythonhosted.org/packages/df/d0/e192c4275aecabf74faa1aacd75ef700091913236ec78b1a98f62a2412ee/pytest-7.4.2-py3-none-any.whl.metadata\n",
      "  Downloading pytest-7.4.2-py3-none-any.whl.metadata (7.9 kB)\n",
      "Requirement already satisfied: requests in /opt/conda/lib/python3.7/site-packages (from tempeh->aif360[LawSchoolGPA]) (2.23.0)\n",
      "Collecting shap (from tempeh->aif360[LawSchoolGPA])\n",
      "  Obtaining dependency information for shap from https://files.pythonhosted.org/packages/b8/d8/15066ae71ba63683b8e53a8bef0e75bd87e95b79ef293f63fa674b351d9b/shap-0.42.1-cp37-cp37m-manylinux_2_12_x86_64.manylinux2010_x86_64.manylinux_2_17_x86_64.manylinux2014_x86_64.whl.metadata\n",
      "  Downloading shap-0.42.1-cp37-cp37m-manylinux_2_12_x86_64.manylinux2010_x86_64.manylinux_2_17_x86_64.manylinux2014_x86_64.whl.metadata (23 kB)\n",
      "Requirement already satisfied: six in /opt/conda/lib/python3.7/site-packages (from cycler>=0.10->matplotlib->aif360[LawSchoolGPA]) (1.14.0)\n",
      "Requirement already satisfied: psutil in /opt/conda/lib/python3.7/site-packages (from memory-profiler->tempeh->aif360[LawSchoolGPA]) (5.7.0)\n",
      "Collecting iniconfig (from pytest->tempeh->aif360[LawSchoolGPA])\n",
      "  Downloading iniconfig-2.0.0-py3-none-any.whl (5.9 kB)\n",
      "Requirement already satisfied: packaging in /opt/conda/lib/python3.7/site-packages (from pytest->tempeh->aif360[LawSchoolGPA]) (20.1)\n",
      "Collecting pluggy<2.0,>=0.12 (from pytest->tempeh->aif360[LawSchoolGPA])\n",
      "  Obtaining dependency information for pluggy<2.0,>=0.12 from https://files.pythonhosted.org/packages/51/32/4a79112b8b87b21450b066e102d6608907f4c885ed7b04c3fdb085d4d6ae/pluggy-1.2.0-py3-none-any.whl.metadata\n",
      "  Downloading pluggy-1.2.0-py3-none-any.whl.metadata (4.4 kB)\n",
      "Collecting exceptiongroup>=1.0.0rc8 (from pytest->tempeh->aif360[LawSchoolGPA])\n",
      "  Obtaining dependency information for exceptiongroup>=1.0.0rc8 from https://files.pythonhosted.org/packages/ad/83/b71e58666f156a39fb29417e4c8ca4bc7400c0dd4ed9e8842ab54dc8c344/exceptiongroup-1.1.3-py3-none-any.whl.metadata\n",
      "  Downloading exceptiongroup-1.1.3-py3-none-any.whl.metadata (6.1 kB)\n",
      "Collecting tomli>=1.0.0 (from pytest->tempeh->aif360[LawSchoolGPA])\n",
      "  Downloading tomli-2.0.1-py3-none-any.whl (12 kB)\n",
      "Requirement already satisfied: importlib-metadata>=0.12 in /opt/conda/lib/python3.7/site-packages (from pytest->tempeh->aif360[LawSchoolGPA]) (1.6.0)\n",
      "Requirement already satisfied: chardet<4,>=3.0.2 in /opt/conda/lib/python3.7/site-packages (from requests->tempeh->aif360[LawSchoolGPA]) (3.0.4)\n",
      "Requirement already satisfied: idna<3,>=2.5 in /opt/conda/lib/python3.7/site-packages (from requests->tempeh->aif360[LawSchoolGPA]) (2.9)\n",
      "Requirement already satisfied: urllib3!=1.25.0,!=1.25.1,<1.26,>=1.21.1 in /opt/conda/lib/python3.7/site-packages (from requests->tempeh->aif360[LawSchoolGPA]) (1.25.9)\n",
      "Requirement already satisfied: certifi>=2017.4.17 in /opt/conda/lib/python3.7/site-packages (from requests->tempeh->aif360[LawSchoolGPA]) (2020.4.5.1)\n",
      "Requirement already satisfied: tqdm>=4.27.0 in /opt/conda/lib/python3.7/site-packages (from shap->tempeh->aif360[LawSchoolGPA]) (4.45.0)\n",
      "Collecting packaging (from pytest->tempeh->aif360[LawSchoolGPA])\n",
      "  Downloading packaging-23.1-py3-none-any.whl (48 kB)\n",
      "\u001b[2K     \u001b[90m━━━━━━━━━━━━━━━━━━━━━━━━━━━━━━━━━━━━━━━━\u001b[0m \u001b[32m48.9/48.9 kB\u001b[0m \u001b[31m27.1 MB/s\u001b[0m eta \u001b[36m0:00:00\u001b[0m\n",
      "\u001b[?25hCollecting slicer==0.0.7 (from shap->tempeh->aif360[LawSchoolGPA])\n",
      "  Downloading slicer-0.0.7-py3-none-any.whl (14 kB)\n",
      "Requirement already satisfied: numba in /opt/conda/lib/python3.7/site-packages (from shap->tempeh->aif360[LawSchoolGPA]) (0.48.0)\n",
      "Requirement already satisfied: cloudpickle in /opt/conda/lib/python3.7/site-packages (from shap->tempeh->aif360[LawSchoolGPA]) (1.4.1)\n",
      "Requirement already satisfied: zipp>=0.5 in /opt/conda/lib/python3.7/site-packages (from importlib-metadata>=0.12->pytest->tempeh->aif360[LawSchoolGPA]) (3.1.0)\n",
      "Requirement already satisfied: llvmlite<0.32.0,>=0.31.0dev0 in /opt/conda/lib/python3.7/site-packages (from numba->shap->tempeh->aif360[LawSchoolGPA]) (0.31.0)\n",
      "Requirement already satisfied: setuptools in /opt/conda/lib/python3.7/site-packages (from numba->shap->tempeh->aif360[LawSchoolGPA]) (46.1.3.post20200325)\n",
      "Downloading pytest-7.4.2-py3-none-any.whl (324 kB)\n",
      "\u001b[2K   \u001b[90m━━━━━━━━━━━━━━━━━━━━━━━━━━━━━━━━━━━━━━━━\u001b[0m \u001b[32m324.5/324.5 kB\u001b[0m \u001b[31m93.0 MB/s\u001b[0m eta \u001b[36m0:00:00\u001b[0m\n",
      "\u001b[?25hDownloading shap-0.42.1-cp37-cp37m-manylinux_2_12_x86_64.manylinux2010_x86_64.manylinux_2_17_x86_64.manylinux2014_x86_64.whl (545 kB)\n",
      "\u001b[2K   \u001b[90m━━━━━━━━━━━━━━━━━━━━━━━━━━━━━━━━━━━━━━━━\u001b[0m \u001b[32m545.7/545.7 kB\u001b[0m \u001b[31m92.2 MB/s\u001b[0m eta \u001b[36m0:00:00\u001b[0m\n",
      "\u001b[?25hDownloading exceptiongroup-1.1.3-py3-none-any.whl (14 kB)\n",
      "Downloading pluggy-1.2.0-py3-none-any.whl (17 kB)\n",
      "Installing collected packages: tomli, slicer, packaging, memory-profiler, iniconfig, exceptiongroup, pluggy, shap, pytest, tempeh\n",
      "  Attempting uninstall: packaging\n",
      "    Found existing installation: packaging 20.1\n",
      "    Uninstalling packaging-20.1:\n",
      "      Successfully uninstalled packaging-20.1\n",
      "Successfully installed exceptiongroup-1.1.3 iniconfig-2.0.0 memory-profiler-0.61.0 packaging-23.1 pluggy-1.2.0 pytest-7.4.2 shap-0.42.1 slicer-0.0.7 tempeh-0.1.12 tomli-2.0.1\n",
      "Note: you may need to restart the kernel to use updated packages.\n"
     ]
    }
   ],
   "source": [
    "pip install 'aif360[LawSchoolGPA]'"
   ]
  },
  {
   "cell_type": "code",
   "execution_count": 333,
   "metadata": {},
   "outputs": [],
   "source": [
    "import pandas as pd\n",
    "import numpy as np\n",
    "\n",
    "import matplotlib\n",
    "from matplotlib import pyplot as plt\n",
    "%matplotlib inline\n",
    "\n",
    "import statsmodels.api as sm\n",
    "\n",
    "import seaborn as sns\n",
    "\n",
    "# sklearn\n",
    "\n",
    "from sklearn.linear_model import LogisticRegressionCV, LogisticRegression\n",
    "from sklearn.model_selection import train_test_split, GridSearchCV\n",
    "from sklearn.metrics import accuracy_score, confusion_matrix, plot_roc_curve, recall_score, precision_score, f1_score, roc_auc_score, roc_curve\n",
    "\n",
    "\n",
    "# aif360\n",
    "\n",
    "from aif360.sklearn.datasets import fetch_german\n",
    "from aif360.metrics import BinaryLabelDatasetMetric, ClassificationMetric\n",
    "from aif360.datasets import BinaryLabelDataset, StandardDataset\n",
    "\n",
    "\n",
    "from sklearn.metrics import confusion_matrix, ConfusionMatrixDisplay\n",
    "\n",
    "import warnings\n",
    "warnings.filterwarnings('ignore')"
   ]
  },
  {
   "cell_type": "code",
   "execution_count": 334,
   "metadata": {},
   "outputs": [
    {
     "data": {
      "text/html": [
       "<div>\n",
       "<style scoped>\n",
       "    .dataframe tbody tr th:only-of-type {\n",
       "        vertical-align: middle;\n",
       "    }\n",
       "\n",
       "    .dataframe tbody tr th {\n",
       "        vertical-align: top;\n",
       "    }\n",
       "\n",
       "    .dataframe thead th {\n",
       "        text-align: right;\n",
       "    }\n",
       "</style>\n",
       "<table border=\"1\" class=\"dataframe\">\n",
       "  <thead>\n",
       "    <tr style=\"text-align: right;\">\n",
       "      <th></th>\n",
       "      <th>age</th>\n",
       "      <th>workclass</th>\n",
       "      <th>education</th>\n",
       "      <th>education-num</th>\n",
       "      <th>marital-status</th>\n",
       "      <th>occupation</th>\n",
       "      <th>relationship</th>\n",
       "      <th>race</th>\n",
       "      <th>sex</th>\n",
       "      <th>capital-gain</th>\n",
       "      <th>capital-loss</th>\n",
       "      <th>hours-per-week</th>\n",
       "      <th>native-country</th>\n",
       "      <th>income</th>\n",
       "    </tr>\n",
       "  </thead>\n",
       "  <tbody>\n",
       "    <tr>\n",
       "      <th>0</th>\n",
       "      <td>25.0</td>\n",
       "      <td>Private</td>\n",
       "      <td>11th</td>\n",
       "      <td>7.0</td>\n",
       "      <td>Never-married</td>\n",
       "      <td>Machine-op-inspct</td>\n",
       "      <td>Own-child</td>\n",
       "      <td>Black</td>\n",
       "      <td>Male</td>\n",
       "      <td>0.0</td>\n",
       "      <td>0.0</td>\n",
       "      <td>40.0</td>\n",
       "      <td>United-States</td>\n",
       "      <td>&lt;=50K</td>\n",
       "    </tr>\n",
       "    <tr>\n",
       "      <th>1</th>\n",
       "      <td>38.0</td>\n",
       "      <td>Private</td>\n",
       "      <td>HS-grad</td>\n",
       "      <td>9.0</td>\n",
       "      <td>Married-civ-spouse</td>\n",
       "      <td>Farming-fishing</td>\n",
       "      <td>Husband</td>\n",
       "      <td>White</td>\n",
       "      <td>Male</td>\n",
       "      <td>0.0</td>\n",
       "      <td>0.0</td>\n",
       "      <td>50.0</td>\n",
       "      <td>United-States</td>\n",
       "      <td>&lt;=50K</td>\n",
       "    </tr>\n",
       "    <tr>\n",
       "      <th>2</th>\n",
       "      <td>28.0</td>\n",
       "      <td>Local-gov</td>\n",
       "      <td>Assoc-acdm</td>\n",
       "      <td>12.0</td>\n",
       "      <td>Married-civ-spouse</td>\n",
       "      <td>Protective-serv</td>\n",
       "      <td>Husband</td>\n",
       "      <td>White</td>\n",
       "      <td>Male</td>\n",
       "      <td>0.0</td>\n",
       "      <td>0.0</td>\n",
       "      <td>40.0</td>\n",
       "      <td>United-States</td>\n",
       "      <td>&gt;50K</td>\n",
       "    </tr>\n",
       "    <tr>\n",
       "      <th>3</th>\n",
       "      <td>44.0</td>\n",
       "      <td>Private</td>\n",
       "      <td>Some-college</td>\n",
       "      <td>10.0</td>\n",
       "      <td>Married-civ-spouse</td>\n",
       "      <td>Machine-op-inspct</td>\n",
       "      <td>Husband</td>\n",
       "      <td>Black</td>\n",
       "      <td>Male</td>\n",
       "      <td>7688.0</td>\n",
       "      <td>0.0</td>\n",
       "      <td>40.0</td>\n",
       "      <td>United-States</td>\n",
       "      <td>&gt;50K</td>\n",
       "    </tr>\n",
       "    <tr>\n",
       "      <th>4</th>\n",
       "      <td>34.0</td>\n",
       "      <td>Private</td>\n",
       "      <td>10th</td>\n",
       "      <td>6.0</td>\n",
       "      <td>Never-married</td>\n",
       "      <td>Other-service</td>\n",
       "      <td>Not-in-family</td>\n",
       "      <td>White</td>\n",
       "      <td>Male</td>\n",
       "      <td>0.0</td>\n",
       "      <td>0.0</td>\n",
       "      <td>30.0</td>\n",
       "      <td>United-States</td>\n",
       "      <td>&lt;=50K</td>\n",
       "    </tr>\n",
       "  </tbody>\n",
       "</table>\n",
       "</div>"
      ],
      "text/plain": [
       "    age  workclass     education  education-num      marital-status  \\\n",
       "0  25.0    Private          11th            7.0       Never-married   \n",
       "1  38.0    Private       HS-grad            9.0  Married-civ-spouse   \n",
       "2  28.0  Local-gov    Assoc-acdm           12.0  Married-civ-spouse   \n",
       "3  44.0    Private  Some-college           10.0  Married-civ-spouse   \n",
       "4  34.0    Private          10th            6.0       Never-married   \n",
       "\n",
       "          occupation   relationship   race   sex  capital-gain  capital-loss  \\\n",
       "0  Machine-op-inspct      Own-child  Black  Male           0.0           0.0   \n",
       "1    Farming-fishing        Husband  White  Male           0.0           0.0   \n",
       "2    Protective-serv        Husband  White  Male           0.0           0.0   \n",
       "3  Machine-op-inspct        Husband  Black  Male        7688.0           0.0   \n",
       "4      Other-service  Not-in-family  White  Male           0.0           0.0   \n",
       "\n",
       "   hours-per-week native-country income  \n",
       "0            40.0  United-States  <=50K  \n",
       "1            50.0  United-States  <=50K  \n",
       "2            40.0  United-States   >50K  \n",
       "3            40.0  United-States   >50K  \n",
       "4            30.0  United-States  <=50K  "
      ]
     },
     "execution_count": 334,
     "metadata": {},
     "output_type": "execute_result"
    }
   ],
   "source": [
    "df = pd.read_csv('adult_data.csv')\n",
    "df.head()"
   ]
  },
  {
   "cell_type": "markdown",
   "metadata": {},
   "source": [
    "## 1. Introducción"
   ]
  },
  {
   "cell_type": "markdown",
   "metadata": {},
   "source": [
    "Se tiene una base datos que contiene datos sociodemográficos y financieros de 45222 personas como edad, nivel educativo, estado civil, sexo, ingresos, ganancias de capital, etc, proveniente de \"adult dataset\" disponible en [AIF360](https://aif360.readthedocs.io/en/stable/modules/generated/aif360.datasets.AdultDataset.html#aif360.datasets.AdultDataset). se aplica un modelo de regresión logística binaria para clasificar las personas segun los ingresos en menores/iguales o mayores a 50.000 dólares. Las personas clasificadas en ingresos mayores 50.000 dólares tiene prioridad en el acceso a crédito de vivienda."
   ]
  },
  {
   "cell_type": "markdown",
   "metadata": {},
   "source": [
    "## 2. Objetivos\n",
    "\n",
    "2.1 Determinar las variables explicativas de clasificación de las personas por ingresos.\n",
    "\n",
    "2.2 Aplicar el modelo de regresión logística binaria para agrupar las personas segun ingresos.\n",
    "\n",
    "2.3 Establecer si el modelo de regresión logística esta sesgado por sexo, es decir, se favorece el etiquetado de las personas en ingresos altos si son hombres o mujeres, utilizando las métricas de Fairness. \n",
    "\n",
    "2.4 Aplicar el Algoritmo EqOddsPostProcessing para que el modelo clasificador trate a hombres y mujeres con las mismas tasas de error de clasificación."
   ]
  },
  {
   "cell_type": "markdown",
   "metadata": {},
   "source": [
    "## 3. Resultados"
   ]
  },
  {
   "cell_type": "markdown",
   "metadata": {},
   "source": [
    "### 3.1 Análisis exploratorio\n",
    "\n",
    "De acuerdo a las medias y las desviaciones estandar de las variables agrupadas por ingresos (income) anuales, las distribuciones de las variables age (edad), education-num (numero de niveles educativos), capital-loss (pérdida de capital), hours-per-week (horas laborales por semana) de los dos grupos de ingresos (<=50K y >50k) se traslapan totalmente, por lo tanto no contribuyen a discriminar entre los dos grupos de ingresos de interés. La única variable que que potencialmente aportaría al establecimiento de diferencias entre los grupos de ingresos es capital-gain (ingresos de capital) ya que el traslape es parcial pero representativo porque sus desviaciones son amplias."
   ]
  },
  {
   "cell_type": "code",
   "execution_count": 6,
   "metadata": {},
   "outputs": [],
   "source": [
    "#Variables cuantitativas"
   ]
  },
  {
   "cell_type": "code",
   "execution_count": 335,
   "metadata": {},
   "outputs": [
    {
     "data": {
      "text/html": [
       "<div>\n",
       "<style scoped>\n",
       "    .dataframe tbody tr th:only-of-type {\n",
       "        vertical-align: middle;\n",
       "    }\n",
       "\n",
       "    .dataframe tbody tr th {\n",
       "        vertical-align: top;\n",
       "    }\n",
       "\n",
       "    .dataframe thead th {\n",
       "        text-align: right;\n",
       "    }\n",
       "</style>\n",
       "<table border=\"1\" class=\"dataframe\">\n",
       "  <thead>\n",
       "    <tr style=\"text-align: right;\">\n",
       "      <th></th>\n",
       "      <th>age</th>\n",
       "      <th>education-num</th>\n",
       "      <th>capital-gain</th>\n",
       "      <th>capital-loss</th>\n",
       "      <th>hours-per-week</th>\n",
       "    </tr>\n",
       "    <tr>\n",
       "      <th>income</th>\n",
       "      <th></th>\n",
       "      <th></th>\n",
       "      <th></th>\n",
       "      <th></th>\n",
       "      <th></th>\n",
       "    </tr>\n",
       "  </thead>\n",
       "  <tbody>\n",
       "    <tr>\n",
       "      <th>&lt;=50K</th>\n",
       "      <td>36.749427</td>\n",
       "      <td>9.630770</td>\n",
       "      <td>149.023402</td>\n",
       "      <td>54.032428</td>\n",
       "      <td>39.372023</td>\n",
       "    </tr>\n",
       "    <tr>\n",
       "      <th>&gt;50K</th>\n",
       "      <td>44.006067</td>\n",
       "      <td>11.598501</td>\n",
       "      <td>3991.791667</td>\n",
       "      <td>193.487063</td>\n",
       "      <td>45.690489</td>\n",
       "    </tr>\n",
       "  </tbody>\n",
       "</table>\n",
       "</div>"
      ],
      "text/plain": [
       "              age  education-num  capital-gain  capital-loss  hours-per-week\n",
       "income                                                                      \n",
       "<=50K   36.749427       9.630770    149.023402     54.032428       39.372023\n",
       ">50K    44.006067      11.598501   3991.791667    193.487063       45.690489"
      ]
     },
     "execution_count": 335,
     "metadata": {},
     "output_type": "execute_result"
    }
   ],
   "source": [
    "#Media \n",
    "df_mean= df.groupby('income').agg({'age': ['mean'], 'education-num': ['mean'],'capital-gain':['mean'],\n",
    "                                   'capital-loss':['mean'],'hours-per-week':['mean']})\n",
    "df_mean.columns = ['age','education-num', 'capital-gain','capital-loss','hours-per-week']\n",
    "df_mean"
   ]
  },
  {
   "cell_type": "code",
   "execution_count": 4,
   "metadata": {},
   "outputs": [],
   "source": [
    "#Desviación estándar"
   ]
  },
  {
   "cell_type": "code",
   "execution_count": 336,
   "metadata": {},
   "outputs": [
    {
     "data": {
      "text/html": [
       "<div>\n",
       "<style scoped>\n",
       "    .dataframe tbody tr th:only-of-type {\n",
       "        vertical-align: middle;\n",
       "    }\n",
       "\n",
       "    .dataframe tbody tr th {\n",
       "        vertical-align: top;\n",
       "    }\n",
       "\n",
       "    .dataframe thead th {\n",
       "        text-align: right;\n",
       "    }\n",
       "</style>\n",
       "<table border=\"1\" class=\"dataframe\">\n",
       "  <thead>\n",
       "    <tr style=\"text-align: right;\">\n",
       "      <th></th>\n",
       "      <th>age</th>\n",
       "      <th>education-num</th>\n",
       "      <th>capital-gain</th>\n",
       "      <th>capital-loss</th>\n",
       "      <th>hours-per-week</th>\n",
       "    </tr>\n",
       "    <tr>\n",
       "      <th>income</th>\n",
       "      <th></th>\n",
       "      <th></th>\n",
       "      <th></th>\n",
       "      <th></th>\n",
       "      <th></th>\n",
       "    </tr>\n",
       "  </thead>\n",
       "  <tbody>\n",
       "    <tr>\n",
       "      <th>&lt;=50K</th>\n",
       "      <td>13.564683</td>\n",
       "      <td>2.420402</td>\n",
       "      <td>927.447387</td>\n",
       "      <td>312.220461</td>\n",
       "      <td>11.974127</td>\n",
       "    </tr>\n",
       "    <tr>\n",
       "      <th>&gt;50K</th>\n",
       "      <td>10.340502</td>\n",
       "      <td>2.367451</td>\n",
       "      <td>14616.543746</td>\n",
       "      <td>592.642319</td>\n",
       "      <td>10.797764</td>\n",
       "    </tr>\n",
       "  </tbody>\n",
       "</table>\n",
       "</div>"
      ],
      "text/plain": [
       "              age  education-num  capital-gain  capital-loss  hours-per-week\n",
       "income                                                                      \n",
       "<=50K   13.564683       2.420402    927.447387    312.220461       11.974127\n",
       ">50K    10.340502       2.367451  14616.543746    592.642319       10.797764"
      ]
     },
     "execution_count": 336,
     "metadata": {},
     "output_type": "execute_result"
    }
   ],
   "source": [
    "df_std= df.groupby('income').agg({'age': ['std'], 'education-num': ['std'],'capital-gain':['std'],\n",
    "                                  'capital-loss':['std'],'hours-per-week':['std']})\n",
    "df_std.columns = ['age','education-num', 'capital-gain','capital-loss','hours-per-week']\n",
    "df_std"
   ]
  },
  {
   "cell_type": "markdown",
   "metadata": {},
   "source": [
    "Nota: No es posible visualizar en este Notebook los gráficas con seaborn.\n",
    "sns.histplot(x = \"age\", hue = \"income\", data = df)\n",
    "sns.histplot(x = \"education-num\", hue = \"income\", data = df)\n",
    "sns.histplot(x = \"capital-gain\", hue = \"income\", data = df)\n",
    "sns.histplot(x = \"capital-loss\", hue = \"income\", data = df)\n",
    "sns.histplot(x = \"hours-per-week\", hue = \"income\", data = df)"
   ]
  },
  {
   "cell_type": "code",
   "execution_count": 337,
   "metadata": {},
   "outputs": [],
   "source": [
    "#Normalizar la variable capital-gain\n",
    "from scipy import stats\n",
    "matriz_capital_gain = stats.zscore(df['capital-gain'])\n",
    "\n",
    "#volver la matriz un dataframe\n",
    "df_capital_gain=pd.DataFrame(matriz_capital_gain)\n",
    "\n",
    "#Unir df_capital_gain a df\n",
    "df1=pd.concat([df, df_capital_gain], axis=1)"
   ]
  },
  {
   "cell_type": "code",
   "execution_count": 330,
   "metadata": {},
   "outputs": [],
   "source": [
    "df1.drop(['capital-gain'], axis=1, inplace=True)"
   ]
  },
  {
   "cell_type": "code",
   "execution_count": 338,
   "metadata": {},
   "outputs": [],
   "source": [
    "#renombrar variable\n",
    "df1.rename(columns={0:'capital_gain'},inplace=True)    "
   ]
  },
  {
   "cell_type": "code",
   "execution_count": 339,
   "metadata": {},
   "outputs": [
    {
     "data": {
      "text/html": [
       "<div>\n",
       "<style scoped>\n",
       "    .dataframe tbody tr th:only-of-type {\n",
       "        vertical-align: middle;\n",
       "    }\n",
       "\n",
       "    .dataframe tbody tr th {\n",
       "        vertical-align: top;\n",
       "    }\n",
       "\n",
       "    .dataframe thead th {\n",
       "        text-align: right;\n",
       "    }\n",
       "</style>\n",
       "<table border=\"1\" class=\"dataframe\">\n",
       "  <thead>\n",
       "    <tr style=\"text-align: right;\">\n",
       "      <th></th>\n",
       "      <th>age</th>\n",
       "      <th>workclass</th>\n",
       "      <th>education</th>\n",
       "      <th>education-num</th>\n",
       "      <th>marital-status</th>\n",
       "      <th>occupation</th>\n",
       "      <th>relationship</th>\n",
       "      <th>race</th>\n",
       "      <th>sex</th>\n",
       "      <th>capital-gain</th>\n",
       "      <th>capital-loss</th>\n",
       "      <th>hours-per-week</th>\n",
       "      <th>native-country</th>\n",
       "      <th>income</th>\n",
       "      <th>capital_gain</th>\n",
       "    </tr>\n",
       "  </thead>\n",
       "  <tbody>\n",
       "    <tr>\n",
       "      <th>0</th>\n",
       "      <td>25.0</td>\n",
       "      <td>Private</td>\n",
       "      <td>11th</td>\n",
       "      <td>7.0</td>\n",
       "      <td>Never-married</td>\n",
       "      <td>Machine-op-inspct</td>\n",
       "      <td>Own-child</td>\n",
       "      <td>Black</td>\n",
       "      <td>Male</td>\n",
       "      <td>0.0</td>\n",
       "      <td>0.0</td>\n",
       "      <td>40.0</td>\n",
       "      <td>United-States</td>\n",
       "      <td>&lt;=50K</td>\n",
       "      <td>-0.146733</td>\n",
       "    </tr>\n",
       "    <tr>\n",
       "      <th>1</th>\n",
       "      <td>38.0</td>\n",
       "      <td>Private</td>\n",
       "      <td>HS-grad</td>\n",
       "      <td>9.0</td>\n",
       "      <td>Married-civ-spouse</td>\n",
       "      <td>Farming-fishing</td>\n",
       "      <td>Husband</td>\n",
       "      <td>White</td>\n",
       "      <td>Male</td>\n",
       "      <td>0.0</td>\n",
       "      <td>0.0</td>\n",
       "      <td>50.0</td>\n",
       "      <td>United-States</td>\n",
       "      <td>&lt;=50K</td>\n",
       "      <td>-0.146733</td>\n",
       "    </tr>\n",
       "    <tr>\n",
       "      <th>2</th>\n",
       "      <td>28.0</td>\n",
       "      <td>Local-gov</td>\n",
       "      <td>Assoc-acdm</td>\n",
       "      <td>12.0</td>\n",
       "      <td>Married-civ-spouse</td>\n",
       "      <td>Protective-serv</td>\n",
       "      <td>Husband</td>\n",
       "      <td>White</td>\n",
       "      <td>Male</td>\n",
       "      <td>0.0</td>\n",
       "      <td>0.0</td>\n",
       "      <td>40.0</td>\n",
       "      <td>United-States</td>\n",
       "      <td>&gt;50K</td>\n",
       "      <td>-0.146733</td>\n",
       "    </tr>\n",
       "    <tr>\n",
       "      <th>3</th>\n",
       "      <td>44.0</td>\n",
       "      <td>Private</td>\n",
       "      <td>Some-college</td>\n",
       "      <td>10.0</td>\n",
       "      <td>Married-civ-spouse</td>\n",
       "      <td>Machine-op-inspct</td>\n",
       "      <td>Husband</td>\n",
       "      <td>Black</td>\n",
       "      <td>Male</td>\n",
       "      <td>7688.0</td>\n",
       "      <td>0.0</td>\n",
       "      <td>40.0</td>\n",
       "      <td>United-States</td>\n",
       "      <td>&gt;50K</td>\n",
       "      <td>0.877467</td>\n",
       "    </tr>\n",
       "    <tr>\n",
       "      <th>4</th>\n",
       "      <td>34.0</td>\n",
       "      <td>Private</td>\n",
       "      <td>10th</td>\n",
       "      <td>6.0</td>\n",
       "      <td>Never-married</td>\n",
       "      <td>Other-service</td>\n",
       "      <td>Not-in-family</td>\n",
       "      <td>White</td>\n",
       "      <td>Male</td>\n",
       "      <td>0.0</td>\n",
       "      <td>0.0</td>\n",
       "      <td>30.0</td>\n",
       "      <td>United-States</td>\n",
       "      <td>&lt;=50K</td>\n",
       "      <td>-0.146733</td>\n",
       "    </tr>\n",
       "  </tbody>\n",
       "</table>\n",
       "</div>"
      ],
      "text/plain": [
       "    age  workclass     education  education-num      marital-status  \\\n",
       "0  25.0    Private          11th            7.0       Never-married   \n",
       "1  38.0    Private       HS-grad            9.0  Married-civ-spouse   \n",
       "2  28.0  Local-gov    Assoc-acdm           12.0  Married-civ-spouse   \n",
       "3  44.0    Private  Some-college           10.0  Married-civ-spouse   \n",
       "4  34.0    Private          10th            6.0       Never-married   \n",
       "\n",
       "          occupation   relationship   race   sex  capital-gain  capital-loss  \\\n",
       "0  Machine-op-inspct      Own-child  Black  Male           0.0           0.0   \n",
       "1    Farming-fishing        Husband  White  Male           0.0           0.0   \n",
       "2    Protective-serv        Husband  White  Male           0.0           0.0   \n",
       "3  Machine-op-inspct        Husband  Black  Male        7688.0           0.0   \n",
       "4      Other-service  Not-in-family  White  Male           0.0           0.0   \n",
       "\n",
       "   hours-per-week native-country income  capital_gain  \n",
       "0            40.0  United-States  <=50K     -0.146733  \n",
       "1            50.0  United-States  <=50K     -0.146733  \n",
       "2            40.0  United-States   >50K     -0.146733  \n",
       "3            40.0  United-States   >50K      0.877467  \n",
       "4            30.0  United-States  <=50K     -0.146733  "
      ]
     },
     "execution_count": 339,
     "metadata": {},
     "output_type": "execute_result"
    }
   ],
   "source": [
    "df1.head()"
   ]
  },
  {
   "cell_type": "markdown",
   "metadata": {},
   "source": [
    "De las variables categóricas, de acuerdo a las variaciones de sus distribuciones segmentadas por income. Las variables que permiten encontrar diferencias entre los dos grupos de ingresos son education, marital_status, occupation y sex. Se excluye a relationship porque esta correlacionado con el compartamiento de marital_status. La variable race no se contempla porque no se observa que las distribuciones sean significativamente diferentes en los grupos de ingresos."
   ]
  },
  {
   "cell_type": "code",
   "execution_count": null,
   "metadata": {},
   "outputs": [],
   "source": [
    "#Variables cualitativas"
   ]
  },
  {
   "cell_type": "code",
   "execution_count": 340,
   "metadata": {},
   "outputs": [
    {
     "data": {
      "text/html": [
       "<div>\n",
       "<style scoped>\n",
       "    .dataframe tbody tr th:only-of-type {\n",
       "        vertical-align: middle;\n",
       "    }\n",
       "\n",
       "    .dataframe tbody tr th {\n",
       "        vertical-align: top;\n",
       "    }\n",
       "\n",
       "    .dataframe thead th {\n",
       "        text-align: right;\n",
       "    }\n",
       "</style>\n",
       "<table border=\"1\" class=\"dataframe\">\n",
       "  <thead>\n",
       "    <tr style=\"text-align: right;\">\n",
       "      <th>income</th>\n",
       "      <th>&lt;=50K</th>\n",
       "      <th>&gt;50K</th>\n",
       "    </tr>\n",
       "    <tr>\n",
       "      <th>workclass</th>\n",
       "      <th></th>\n",
       "      <th></th>\n",
       "    </tr>\n",
       "  </thead>\n",
       "  <tbody>\n",
       "    <tr>\n",
       "      <th>Private</th>\n",
       "      <td>76.603751</td>\n",
       "      <td>64.694861</td>\n",
       "    </tr>\n",
       "    <tr>\n",
       "      <th>Self-emp-not-inc</th>\n",
       "      <td>8.046687</td>\n",
       "      <td>9.448608</td>\n",
       "    </tr>\n",
       "    <tr>\n",
       "      <th>Local-gov</th>\n",
       "      <td>6.423825</td>\n",
       "      <td>8.163812</td>\n",
       "    </tr>\n",
       "    <tr>\n",
       "      <th>Self-emp-inc</th>\n",
       "      <td>2.157935</td>\n",
       "      <td>8.137045</td>\n",
       "    </tr>\n",
       "    <tr>\n",
       "      <th>Federal-gov</th>\n",
       "      <td>2.519551</td>\n",
       "      <td>4.898287</td>\n",
       "    </tr>\n",
       "    <tr>\n",
       "      <th>State-gov</th>\n",
       "      <td>4.192391</td>\n",
       "      <td>4.639543</td>\n",
       "    </tr>\n",
       "    <tr>\n",
       "      <th>Without-pay</th>\n",
       "      <td>0.055859</td>\n",
       "      <td>0.017844</td>\n",
       "    </tr>\n",
       "  </tbody>\n",
       "</table>\n",
       "</div>"
      ],
      "text/plain": [
       "income                <=50K       >50K\n",
       "workclass                             \n",
       "Private           76.603751  64.694861\n",
       "Self-emp-not-inc   8.046687   9.448608\n",
       "Local-gov          6.423825   8.163812\n",
       "Self-emp-inc       2.157935   8.137045\n",
       "Federal-gov        2.519551   4.898287\n",
       "State-gov          4.192391   4.639543\n",
       "Without-pay        0.055859   0.017844"
      ]
     },
     "execution_count": 340,
     "metadata": {},
     "output_type": "execute_result"
    }
   ],
   "source": [
    "#workclass\n",
    "crostab_workclass=pd.crosstab(values=df['age'], columns=df['income'], index=df['workclass'], \n",
    "                  aggfunc=lambda x: len(x), normalize='columns').sort_values('>50K', ascending=False)*100\n",
    "crostab_workclass"
   ]
  },
  {
   "cell_type": "code",
   "execution_count": 341,
   "metadata": {},
   "outputs": [
    {
     "data": {
      "image/png": "[encoded data removed]",
      "text/plain": [
       "<Figure size 432x288 with 1 Axes>"
      ]
     },
     "metadata": {
      "needs_background": "light"
     },
     "output_type": "display_data"
    }
   ],
   "source": [
    "crostab_workclass.plot(kind='bar')\n",
    "plt.xlabel('workclass')\n",
    "plt.ylabel('%')\n",
    "plt.title('Distribución de la varible workclass por grupo income')\n",
    "plt.show()"
   ]
  },
  {
   "cell_type": "code",
   "execution_count": 342,
   "metadata": {},
   "outputs": [],
   "source": [
    "#education\n",
    "crostab_education=pd.crosstab(values=df['age'], columns=df['income'], index=df['education'], \n",
    "                              aggfunc=lambda x: len(x), normalize='columns').sort_values('>50K', ascending=False)*100"
   ]
  },
  {
   "cell_type": "code",
   "execution_count": 343,
   "metadata": {},
   "outputs": [
    {
     "data": {
      "image/png": "[encoded data removed]",
      "text/plain": [
       "<Figure size 432x288 with 1 Axes>"
      ]
     },
     "metadata": {
      "needs_background": "light"
     },
     "output_type": "display_data"
    }
   ],
   "source": [
    "crostab_education.plot(kind='bar')\n",
    "plt.xlabel('education')\n",
    "plt.ylabel('%')\n",
    "plt.title('Distribución de la variable education por grupo income')\n",
    "plt.show()"
   ]
  },
  {
   "cell_type": "code",
   "execution_count": 344,
   "metadata": {},
   "outputs": [],
   "source": [
    "#Reagrupar categorías\n",
    "df1['education'] = df1['education'].map({'Preschool':'elementary_secondary', '1st-4th':'elementary_secondary', \n",
    "                                            '5th-6th':'elementary_secondary', '7th-8th':'elementary_secondary', \n",
    "                                            '9th':'elementary_secondary','10th':'elementary_secondary',\n",
    "                                            '11th':'elementary_secondary', '12th':'elementary_secondary',\n",
    "                                            'Assoc-acdm':'associate','Assoc-voc':'associate', 'Masters':'postgraduate',\n",
    "                                            'Doctorate':'postgraduate', 'Prof-school':'college', 'Some-college':'college',\n",
    "                                            'HS-grad': 'HS_grad','Bachelors':'Bachelors'})"
   ]
  },
  {
   "cell_type": "code",
   "execution_count": 345,
   "metadata": {},
   "outputs": [
    {
     "data": {
      "text/html": [
       "<div>\n",
       "<style scoped>\n",
       "    .dataframe tbody tr th:only-of-type {\n",
       "        vertical-align: middle;\n",
       "    }\n",
       "\n",
       "    .dataframe tbody tr th {\n",
       "        vertical-align: top;\n",
       "    }\n",
       "\n",
       "    .dataframe thead th {\n",
       "        text-align: right;\n",
       "    }\n",
       "</style>\n",
       "<table border=\"1\" class=\"dataframe\">\n",
       "  <thead>\n",
       "    <tr style=\"text-align: right;\">\n",
       "      <th>income</th>\n",
       "      <th>&lt;=50K</th>\n",
       "      <th>&gt;50K</th>\n",
       "    </tr>\n",
       "    <tr>\n",
       "      <th>education</th>\n",
       "      <th></th>\n",
       "      <th></th>\n",
       "    </tr>\n",
       "  </thead>\n",
       "  <tbody>\n",
       "    <tr>\n",
       "      <th>Bachelors</th>\n",
       "      <td>12.912330</td>\n",
       "      <td>28.354747</td>\n",
       "    </tr>\n",
       "    <tr>\n",
       "      <th>college</th>\n",
       "      <td>23.819604</td>\n",
       "      <td>23.037116</td>\n",
       "    </tr>\n",
       "    <tr>\n",
       "      <th>HS_grad</th>\n",
       "      <td>36.358558</td>\n",
       "      <td>21.556031</td>\n",
       "    </tr>\n",
       "    <tr>\n",
       "      <th>postgraduate</th>\n",
       "      <td>3.721997</td>\n",
       "      <td>15.988580</td>\n",
       "    </tr>\n",
       "    <tr>\n",
       "      <th>associate</th>\n",
       "      <td>7.538073</td>\n",
       "      <td>8.047823</td>\n",
       "    </tr>\n",
       "    <tr>\n",
       "      <th>elementary_secondary</th>\n",
       "      <td>15.649438</td>\n",
       "      <td>3.015703</td>\n",
       "    </tr>\n",
       "  </tbody>\n",
       "</table>\n",
       "</div>"
      ],
      "text/plain": [
       "income                    <=50K       >50K\n",
       "education                                 \n",
       "Bachelors             12.912330  28.354747\n",
       "college               23.819604  23.037116\n",
       "HS_grad               36.358558  21.556031\n",
       "postgraduate           3.721997  15.988580\n",
       "associate              7.538073   8.047823\n",
       "elementary_secondary  15.649438   3.015703"
      ]
     },
     "execution_count": 345,
     "metadata": {},
     "output_type": "execute_result"
    }
   ],
   "source": [
    "#education reagrupada\n",
    "crostab_education=pd.crosstab(values=df1['age'], columns=df1['income'], index=df1['education'], \n",
    "                              aggfunc=lambda x: len(x), normalize='columns').sort_values('>50K', ascending=False)*100\n",
    "crostab_education"
   ]
  },
  {
   "cell_type": "code",
   "execution_count": 346,
   "metadata": {},
   "outputs": [
    {
     "data": {
      "image/png": "[encoded data removed]",
      "text/plain": [
       "<Figure size 432x288 with 1 Axes>"
      ]
     },
     "metadata": {
      "needs_background": "light"
     },
     "output_type": "display_data"
    }
   ],
   "source": [
    "crostab_education.plot(kind='bar')\n",
    "plt.xlabel('education')\n",
    "plt.ylabel('%')\n",
    "plt.title('Distribución de la variable education por grupo income')\n",
    "plt.show()"
   ]
  },
  {
   "cell_type": "code",
   "execution_count": 347,
   "metadata": {},
   "outputs": [],
   "source": [
    "#marital-status\n",
    "crostab_marital=pd.crosstab(values=df['age'], columns=df['income'], index=df['marital-status'], \n",
    "                            aggfunc=lambda x: len(x), normalize='columns').sort_values('>50K', ascending=False)*100"
   ]
  },
  {
   "cell_type": "code",
   "execution_count": 348,
   "metadata": {},
   "outputs": [
    {
     "data": {
      "image/png": "[encoded data removed]",
      "text/plain": [
       "<Figure size 432x288 with 1 Axes>"
      ]
     },
     "metadata": {
      "needs_background": "light"
     },
     "output_type": "display_data"
    }
   ],
   "source": [
    "crostab_marital.plot(kind='bar')\n",
    "plt.xlabel('marital-status')\n",
    "plt.ylabel('%')\n",
    "plt.title('Distribución de la variable marital-status por grupo income')\n",
    "plt.show()"
   ]
  },
  {
   "cell_type": "code",
   "execution_count": 349,
   "metadata": {},
   "outputs": [],
   "source": [
    "#Reagrupar categorías\n",
    "df1['marital-status'] = df1['marital-status'].map({'Never-married':'Never_married','Married-civ-spouse':'married',\n",
    "                                                 'Married-spouse-absent':'married', 'Married-AF-spouse': 'married',\n",
    "                                                 'Separated':'Separated', 'Divorced':'Separated', 'Widowed':'Separated',\n",
    "                                            })"
   ]
  },
  {
   "cell_type": "code",
   "execution_count": 350,
   "metadata": {},
   "outputs": [
    {
     "data": {
      "text/html": [
       "<div>\n",
       "<style scoped>\n",
       "    .dataframe tbody tr th:only-of-type {\n",
       "        vertical-align: middle;\n",
       "    }\n",
       "\n",
       "    .dataframe tbody tr th {\n",
       "        vertical-align: top;\n",
       "    }\n",
       "\n",
       "    .dataframe thead th {\n",
       "        text-align: right;\n",
       "    }\n",
       "</style>\n",
       "<table border=\"1\" class=\"dataframe\">\n",
       "  <thead>\n",
       "    <tr style=\"text-align: right;\">\n",
       "      <th>income</th>\n",
       "      <th>&lt;=50K</th>\n",
       "      <th>&gt;50K</th>\n",
       "    </tr>\n",
       "    <tr>\n",
       "      <th>marital-status</th>\n",
       "      <th></th>\n",
       "      <th></th>\n",
       "    </tr>\n",
       "  </thead>\n",
       "  <tbody>\n",
       "    <tr>\n",
       "      <th>married</th>\n",
       "      <td>35.300171</td>\n",
       "      <td>85.938615</td>\n",
       "    </tr>\n",
       "    <tr>\n",
       "      <th>Separated</th>\n",
       "      <td>23.843123</td>\n",
       "      <td>7.806924</td>\n",
       "    </tr>\n",
       "    <tr>\n",
       "      <th>Never_married</th>\n",
       "      <td>40.856706</td>\n",
       "      <td>6.254461</td>\n",
       "    </tr>\n",
       "  </tbody>\n",
       "</table>\n",
       "</div>"
      ],
      "text/plain": [
       "income              <=50K       >50K\n",
       "marital-status                      \n",
       "married         35.300171  85.938615\n",
       "Separated       23.843123   7.806924\n",
       "Never_married   40.856706   6.254461"
      ]
     },
     "execution_count": 350,
     "metadata": {},
     "output_type": "execute_result"
    }
   ],
   "source": [
    "#marital-status reagrupada\n",
    "crostab_marital=pd.crosstab(values=df1['age'], columns=df1['income'], index=df1['marital-status'], \n",
    "                            aggfunc=lambda x: len(x), normalize='columns').sort_values('>50K', ascending=False)*100\n",
    "crostab_marital"
   ]
  },
  {
   "cell_type": "code",
   "execution_count": 351,
   "metadata": {},
   "outputs": [
    {
     "data": {
      "image/png": "[encoded data removed]",
      "text/plain": [
       "<Figure size 432x288 with 1 Axes>"
      ]
     },
     "metadata": {
      "needs_background": "light"
     },
     "output_type": "display_data"
    }
   ],
   "source": [
    "crostab_marital.plot(kind='bar')\n",
    "plt.xlabel('marital-status')\n",
    "plt.ylabel('%')\n",
    "plt.title('Distribución de la variable marital-status por grupo income')\n",
    "plt.show()"
   ]
  },
  {
   "cell_type": "code",
   "execution_count": 352,
   "metadata": {},
   "outputs": [],
   "source": [
    "#occupation\n",
    "crostab_occupation=pd.crosstab(values=df['age'], columns=df['income'], index=df['occupation'], \n",
    "                               aggfunc=lambda x: len(x), normalize='columns').sort_values('>50K', ascending=False)*100"
   ]
  },
  {
   "cell_type": "code",
   "execution_count": 353,
   "metadata": {},
   "outputs": [
    {
     "data": {
      "image/png": "[encoded data removed]",
      "text/plain": [
       "<Figure size 432x288 with 1 Axes>"
      ]
     },
     "metadata": {
      "needs_background": "light"
     },
     "output_type": "display_data"
    }
   ],
   "source": [
    "crostab_occupation.plot(kind='bar')\n",
    "plt.xlabel('occupation')\n",
    "plt.ylabel('%')\n",
    "plt.title('Distribución de la varible occupation por grupo income')\n",
    "plt.show()"
   ]
  },
  {
   "cell_type": "code",
   "execution_count": 354,
   "metadata": {},
   "outputs": [],
   "source": [
    "#Reagrupar categorías\n",
    "df1['occupation'] = df1['occupation'].map({'Machine-op-inspct':'Machine_op_inspct','Farming-fishing':'Farming_fishing',\n",
    "                                         'Protective-serv':'Other_service','Priv-house-serv':'Other_service',\n",
    "                                         'Handlers-cleaners':'Other_service','Armed-Forces':'Other_service',\n",
    "                                         'Other-service':'Other_service', 'Prof-specialty':'Prof_specialty',\n",
    "                                         'Craft-repair':'Craft_repair', 'Adm-clerical':'Adm_clerical',\n",
    "                                         'Exec-managerial': 'Exec_managerial','Tech-support':'Tech_support',\n",
    "                                         'Sales':'Sales','Transport-moving':'Transport_moving'})"
   ]
  },
  {
   "cell_type": "code",
   "execution_count": 355,
   "metadata": {},
   "outputs": [
    {
     "data": {
      "text/html": [
       "<div>\n",
       "<style scoped>\n",
       "    .dataframe tbody tr th:only-of-type {\n",
       "        vertical-align: middle;\n",
       "    }\n",
       "\n",
       "    .dataframe tbody tr th {\n",
       "        vertical-align: top;\n",
       "    }\n",
       "\n",
       "    .dataframe thead th {\n",
       "        text-align: right;\n",
       "    }\n",
       "</style>\n",
       "<table border=\"1\" class=\"dataframe\">\n",
       "  <thead>\n",
       "    <tr style=\"text-align: right;\">\n",
       "      <th>income</th>\n",
       "      <th>&lt;=50K</th>\n",
       "      <th>&gt;50K</th>\n",
       "    </tr>\n",
       "    <tr>\n",
       "      <th>occupation</th>\n",
       "      <th></th>\n",
       "      <th></th>\n",
       "    </tr>\n",
       "  </thead>\n",
       "  <tbody>\n",
       "    <tr>\n",
       "      <th>Exec_managerial</th>\n",
       "      <td>9.163874</td>\n",
       "      <td>25.579943</td>\n",
       "    </tr>\n",
       "    <tr>\n",
       "      <th>Prof_specialty</th>\n",
       "      <td>9.713647</td>\n",
       "      <td>24.125625</td>\n",
       "    </tr>\n",
       "    <tr>\n",
       "      <th>Sales</th>\n",
       "      <td>11.621685</td>\n",
       "      <td>12.981799</td>\n",
       "    </tr>\n",
       "    <tr>\n",
       "      <th>Craft_repair</th>\n",
       "      <td>13.714941</td>\n",
       "      <td>12.089579</td>\n",
       "    </tr>\n",
       "    <tr>\n",
       "      <th>Adm_clerical</th>\n",
       "      <td>14.064797</td>\n",
       "      <td>6.745182</td>\n",
       "    </tr>\n",
       "    <tr>\n",
       "      <th>Other_service</th>\n",
       "      <td>21.846887</td>\n",
       "      <td>5.754818</td>\n",
       "    </tr>\n",
       "    <tr>\n",
       "      <th>Transport_moving</th>\n",
       "      <td>5.403657</td>\n",
       "      <td>4.264811</td>\n",
       "    </tr>\n",
       "    <tr>\n",
       "      <th>Tech_support</th>\n",
       "      <td>2.966426</td>\n",
       "      <td>3.667024</td>\n",
       "    </tr>\n",
       "    <tr>\n",
       "      <th>Machine_op_inspct</th>\n",
       "      <td>7.658611</td>\n",
       "      <td>3.256602</td>\n",
       "    </tr>\n",
       "    <tr>\n",
       "      <th>Farming_fishing</th>\n",
       "      <td>3.845475</td>\n",
       "      <td>1.534618</td>\n",
       "    </tr>\n",
       "  </tbody>\n",
       "</table>\n",
       "</div>"
      ],
      "text/plain": [
       "income                 <=50K       >50K\n",
       "occupation                             \n",
       "Exec_managerial     9.163874  25.579943\n",
       "Prof_specialty      9.713647  24.125625\n",
       "Sales              11.621685  12.981799\n",
       "Craft_repair       13.714941  12.089579\n",
       "Adm_clerical       14.064797   6.745182\n",
       "Other_service      21.846887   5.754818\n",
       "Transport_moving    5.403657   4.264811\n",
       "Tech_support        2.966426   3.667024\n",
       "Machine_op_inspct   7.658611   3.256602\n",
       "Farming_fishing     3.845475   1.534618"
      ]
     },
     "execution_count": 355,
     "metadata": {},
     "output_type": "execute_result"
    }
   ],
   "source": [
    "#occupation reagrupada\n",
    "crostab_occupation=pd.crosstab(values=df1['age'], columns=df1['income'], index=df1['occupation'], \n",
    "                            aggfunc=lambda x: len(x), normalize='columns').sort_values('>50K', ascending=False)*100\n",
    "crostab_occupation"
   ]
  },
  {
   "cell_type": "code",
   "execution_count": 356,
   "metadata": {},
   "outputs": [
    {
     "data": {
      "image/png": "[encoded data removed]",
      "text/plain": [
       "<Figure size 432x288 with 1 Axes>"
      ]
     },
     "metadata": {
      "needs_background": "light"
     },
     "output_type": "display_data"
    }
   ],
   "source": [
    "crostab_occupation.plot(kind='bar')\n",
    "plt.xlabel('occupation')\n",
    "plt.ylabel('%')\n",
    "plt.title('Distribución de la varible occupation por grupo income')\n",
    "plt.show()"
   ]
  },
  {
   "cell_type": "code",
   "execution_count": 357,
   "metadata": {},
   "outputs": [
    {
     "data": {
      "text/html": [
       "<div>\n",
       "<style scoped>\n",
       "    .dataframe tbody tr th:only-of-type {\n",
       "        vertical-align: middle;\n",
       "    }\n",
       "\n",
       "    .dataframe tbody tr th {\n",
       "        vertical-align: top;\n",
       "    }\n",
       "\n",
       "    .dataframe thead th {\n",
       "        text-align: right;\n",
       "    }\n",
       "</style>\n",
       "<table border=\"1\" class=\"dataframe\">\n",
       "  <thead>\n",
       "    <tr style=\"text-align: right;\">\n",
       "      <th>income</th>\n",
       "      <th>&lt;=50K</th>\n",
       "      <th>&gt;50K</th>\n",
       "    </tr>\n",
       "    <tr>\n",
       "      <th>relationship</th>\n",
       "      <th></th>\n",
       "      <th></th>\n",
       "    </tr>\n",
       "  </thead>\n",
       "  <tbody>\n",
       "    <tr>\n",
       "      <th>Husband</th>\n",
       "      <td>29.867114</td>\n",
       "      <td>75.901142</td>\n",
       "    </tr>\n",
       "    <tr>\n",
       "      <th>Not-in-family</th>\n",
       "      <td>30.793203</td>\n",
       "      <td>10.956460</td>\n",
       "    </tr>\n",
       "    <tr>\n",
       "      <th>Wife</th>\n",
       "      <td>3.160463</td>\n",
       "      <td>9.064954</td>\n",
       "    </tr>\n",
       "    <tr>\n",
       "      <th>Unmarried</th>\n",
       "      <td>13.188687</td>\n",
       "      <td>2.694504</td>\n",
       "    </tr>\n",
       "    <tr>\n",
       "      <th>Own-child</th>\n",
       "      <td>19.171518</td>\n",
       "      <td>0.936831</td>\n",
       "    </tr>\n",
       "    <tr>\n",
       "      <th>Other-relative</th>\n",
       "      <td>3.819016</td>\n",
       "      <td>0.446110</td>\n",
       "    </tr>\n",
       "  </tbody>\n",
       "</table>\n",
       "</div>"
      ],
      "text/plain": [
       "income              <=50K       >50K\n",
       "relationship                        \n",
       "Husband         29.867114  75.901142\n",
       "Not-in-family   30.793203  10.956460\n",
       "Wife             3.160463   9.064954\n",
       "Unmarried       13.188687   2.694504\n",
       "Own-child       19.171518   0.936831\n",
       "Other-relative   3.819016   0.446110"
      ]
     },
     "execution_count": 357,
     "metadata": {},
     "output_type": "execute_result"
    }
   ],
   "source": [
    "#relationship \n",
    "crostab_relationship=pd.crosstab(values=df['age'], columns=df['income'], index=df['relationship'], \n",
    "                            aggfunc=lambda x: len(x), normalize='columns').sort_values('>50K', ascending=False)*100\n",
    "crostab_relationship"
   ]
  },
  {
   "cell_type": "code",
   "execution_count": 44,
   "metadata": {},
   "outputs": [
    {
     "data": {
      "image/png": "[encoded data removed]",
      "text/plain": [
       "<Figure size 432x288 with 1 Axes>"
      ]
     },
     "metadata": {
      "needs_background": "light"
     },
     "output_type": "display_data"
    }
   ],
   "source": [
    "crostab_relationship.plot(kind='bar')\n",
    "plt.xlabel('relationship')\n",
    "plt.ylabel('%')\n",
    "plt.title('Distribución de la varible relationship por grupo income')\n",
    "plt.show()"
   ]
  },
  {
   "cell_type": "code",
   "execution_count": 358,
   "metadata": {},
   "outputs": [
    {
     "data": {
      "text/html": [
       "<div>\n",
       "<style scoped>\n",
       "    .dataframe tbody tr th:only-of-type {\n",
       "        vertical-align: middle;\n",
       "    }\n",
       "\n",
       "    .dataframe tbody tr th {\n",
       "        vertical-align: top;\n",
       "    }\n",
       "\n",
       "    .dataframe thead th {\n",
       "        text-align: right;\n",
       "    }\n",
       "</style>\n",
       "<table border=\"1\" class=\"dataframe\">\n",
       "  <thead>\n",
       "    <tr style=\"text-align: right;\">\n",
       "      <th>income</th>\n",
       "      <th>&lt;=50K</th>\n",
       "      <th>&gt;50K</th>\n",
       "    </tr>\n",
       "    <tr>\n",
       "      <th>race</th>\n",
       "      <th></th>\n",
       "      <th></th>\n",
       "    </tr>\n",
       "  </thead>\n",
       "  <tbody>\n",
       "    <tr>\n",
       "      <th>White</th>\n",
       "      <td>84.365261</td>\n",
       "      <td>91.068879</td>\n",
       "    </tr>\n",
       "    <tr>\n",
       "      <th>Black</th>\n",
       "      <td>10.860234</td>\n",
       "      <td>4.764454</td>\n",
       "    </tr>\n",
       "    <tr>\n",
       "      <th>Asian-Pac-Islander</th>\n",
       "      <td>2.745928</td>\n",
       "      <td>3.292291</td>\n",
       "    </tr>\n",
       "    <tr>\n",
       "      <th>Amer-Indian-Eskimo</th>\n",
       "      <td>1.123067</td>\n",
       "      <td>0.472877</td>\n",
       "    </tr>\n",
       "    <tr>\n",
       "      <th>Other</th>\n",
       "      <td>0.905509</td>\n",
       "      <td>0.401499</td>\n",
       "    </tr>\n",
       "  </tbody>\n",
       "</table>\n",
       "</div>"
      ],
      "text/plain": [
       "income                  <=50K       >50K\n",
       "race                                    \n",
       "White               84.365261  91.068879\n",
       "Black               10.860234   4.764454\n",
       "Asian-Pac-Islander   2.745928   3.292291\n",
       "Amer-Indian-Eskimo   1.123067   0.472877\n",
       "Other                0.905509   0.401499"
      ]
     },
     "execution_count": 358,
     "metadata": {},
     "output_type": "execute_result"
    }
   ],
   "source": [
    "#race\n",
    "crostab_race=pd.crosstab(values=df['age'], columns=df['income'], index=df['race'], \n",
    "                            aggfunc=lambda x: len(x), normalize='columns').sort_values('>50K', ascending=False)*100\n",
    "crostab_race"
   ]
  },
  {
   "cell_type": "code",
   "execution_count": 106,
   "metadata": {},
   "outputs": [
    {
     "data": {
      "image/png": "[encoded data removed]",
      "text/plain": [
       "<Figure size 432x288 with 1 Axes>"
      ]
     },
     "metadata": {
      "needs_background": "light"
     },
     "output_type": "display_data"
    }
   ],
   "source": [
    "crostab_race.plot(kind='bar')\n",
    "plt.xlabel('race')\n",
    "plt.ylabel('%')\n",
    "plt.title('Distribución de la varible race por grupo income')\n",
    "plt.show()"
   ]
  },
  {
   "cell_type": "code",
   "execution_count": 359,
   "metadata": {},
   "outputs": [
    {
     "data": {
      "text/html": [
       "<div>\n",
       "<style scoped>\n",
       "    .dataframe tbody tr th:only-of-type {\n",
       "        vertical-align: middle;\n",
       "    }\n",
       "\n",
       "    .dataframe tbody tr th {\n",
       "        vertical-align: top;\n",
       "    }\n",
       "\n",
       "    .dataframe thead th {\n",
       "        text-align: right;\n",
       "    }\n",
       "</style>\n",
       "<table border=\"1\" class=\"dataframe\">\n",
       "  <thead>\n",
       "    <tr style=\"text-align: right;\">\n",
       "      <th>income</th>\n",
       "      <th>&lt;=50K</th>\n",
       "      <th>&gt;50K</th>\n",
       "    </tr>\n",
       "    <tr>\n",
       "      <th>sex</th>\n",
       "      <th></th>\n",
       "      <th></th>\n",
       "    </tr>\n",
       "  </thead>\n",
       "  <tbody>\n",
       "    <tr>\n",
       "      <th>Male</th>\n",
       "      <td>61.704004</td>\n",
       "      <td>85.108851</td>\n",
       "    </tr>\n",
       "    <tr>\n",
       "      <th>Female</th>\n",
       "      <td>38.295996</td>\n",
       "      <td>14.891149</td>\n",
       "    </tr>\n",
       "  </tbody>\n",
       "</table>\n",
       "</div>"
      ],
      "text/plain": [
       "income      <=50K       >50K\n",
       "sex                         \n",
       "Male    61.704004  85.108851\n",
       "Female  38.295996  14.891149"
      ]
     },
     "execution_count": 359,
     "metadata": {},
     "output_type": "execute_result"
    }
   ],
   "source": [
    "#sex\n",
    "crostab_sex=pd.crosstab(values=df['age'], columns=df['income'], index=df['sex'], \n",
    "                            aggfunc=lambda x: len(x), normalize='columns').sort_values('>50K', ascending=False)*100\n",
    "crostab_sex"
   ]
  },
  {
   "cell_type": "code",
   "execution_count": 360,
   "metadata": {},
   "outputs": [
    {
     "data": {
      "image/png": "[encoded data removed]",
      "text/plain": [
       "<Figure size 432x288 with 1 Axes>"
      ]
     },
     "metadata": {
      "needs_background": "light"
     },
     "output_type": "display_data"
    }
   ],
   "source": [
    "crostab_sex.plot(kind='bar')\n",
    "plt.xlabel('sex')\n",
    "plt.ylabel('%')\n",
    "plt.title('Distribución de la varible sex por grupo income')\n",
    "plt.show()"
   ]
  },
  {
   "cell_type": "code",
   "execution_count": 361,
   "metadata": {},
   "outputs": [
    {
     "data": {
      "text/html": [
       "<div>\n",
       "<style scoped>\n",
       "    .dataframe tbody tr th:only-of-type {\n",
       "        vertical-align: middle;\n",
       "    }\n",
       "\n",
       "    .dataframe tbody tr th {\n",
       "        vertical-align: top;\n",
       "    }\n",
       "\n",
       "    .dataframe thead th {\n",
       "        text-align: right;\n",
       "    }\n",
       "</style>\n",
       "<table border=\"1\" class=\"dataframe\">\n",
       "  <thead>\n",
       "    <tr style=\"text-align: right;\">\n",
       "      <th>income</th>\n",
       "      <th>&lt;=50K</th>\n",
       "      <th>&gt;50K</th>\n",
       "    </tr>\n",
       "    <tr>\n",
       "      <th>native-country</th>\n",
       "      <th></th>\n",
       "      <th></th>\n",
       "    </tr>\n",
       "  </thead>\n",
       "  <tbody>\n",
       "    <tr>\n",
       "      <th>United-States</th>\n",
       "      <td>90.680308</td>\n",
       "      <td>93.219129</td>\n",
       "    </tr>\n",
       "    <tr>\n",
       "      <th>Philippines</th>\n",
       "      <td>0.585053</td>\n",
       "      <td>0.749465</td>\n",
       "    </tr>\n",
       "    <tr>\n",
       "      <th>India</th>\n",
       "      <td>0.249897</td>\n",
       "      <td>0.553176</td>\n",
       "    </tr>\n",
       "    <tr>\n",
       "      <th>Canada</th>\n",
       "      <td>0.302816</td>\n",
       "      <td>0.535332</td>\n",
       "    </tr>\n",
       "    <tr>\n",
       "      <th>Germany</th>\n",
       "      <td>0.396895</td>\n",
       "      <td>0.517488</td>\n",
       "    </tr>\n",
       "    <tr>\n",
       "      <th>England</th>\n",
       "      <td>0.211678</td>\n",
       "      <td>0.419343</td>\n",
       "    </tr>\n",
       "    <tr>\n",
       "      <th>Mexico</th>\n",
       "      <td>2.516611</td>\n",
       "      <td>0.419343</td>\n",
       "    </tr>\n",
       "    <tr>\n",
       "      <th>China</th>\n",
       "      <td>0.226377</td>\n",
       "      <td>0.321199</td>\n",
       "    </tr>\n",
       "    <tr>\n",
       "      <th>Cuba</th>\n",
       "      <td>0.291057</td>\n",
       "      <td>0.303355</td>\n",
       "    </tr>\n",
       "    <tr>\n",
       "      <th>Italy</th>\n",
       "      <td>0.196978</td>\n",
       "      <td>0.294433</td>\n",
       "    </tr>\n",
       "    <tr>\n",
       "      <th>Japan</th>\n",
       "      <td>0.170518</td>\n",
       "      <td>0.276588</td>\n",
       "    </tr>\n",
       "    <tr>\n",
       "      <th>Taiwan</th>\n",
       "      <td>0.088199</td>\n",
       "      <td>0.223055</td>\n",
       "    </tr>\n",
       "    <tr>\n",
       "      <th>Iran</th>\n",
       "      <td>0.099959</td>\n",
       "      <td>0.196288</td>\n",
       "    </tr>\n",
       "    <tr>\n",
       "      <th>Puerto-Rico</th>\n",
       "      <td>0.455695</td>\n",
       "      <td>0.178444</td>\n",
       "    </tr>\n",
       "    <tr>\n",
       "      <th>Greece</th>\n",
       "      <td>0.091139</td>\n",
       "      <td>0.160600</td>\n",
       "    </tr>\n",
       "    <tr>\n",
       "      <th>South</th>\n",
       "      <td>0.244017</td>\n",
       "      <td>0.160600</td>\n",
       "    </tr>\n",
       "    <tr>\n",
       "      <th>Poland</th>\n",
       "      <td>0.191098</td>\n",
       "      <td>0.142755</td>\n",
       "    </tr>\n",
       "    <tr>\n",
       "      <th>France</th>\n",
       "      <td>0.058799</td>\n",
       "      <td>0.142755</td>\n",
       "    </tr>\n",
       "    <tr>\n",
       "      <th>Jamaica</th>\n",
       "      <td>0.261657</td>\n",
       "      <td>0.124911</td>\n",
       "    </tr>\n",
       "    <tr>\n",
       "      <th>Portugal</th>\n",
       "      <td>0.146998</td>\n",
       "      <td>0.107066</td>\n",
       "    </tr>\n",
       "    <tr>\n",
       "      <th>El-Salvador</th>\n",
       "      <td>0.399835</td>\n",
       "      <td>0.098144</td>\n",
       "    </tr>\n",
       "    <tr>\n",
       "      <th>Ireland</th>\n",
       "      <td>0.076439</td>\n",
       "      <td>0.089222</td>\n",
       "    </tr>\n",
       "    <tr>\n",
       "      <th>Cambodia</th>\n",
       "      <td>0.049979</td>\n",
       "      <td>0.080300</td>\n",
       "    </tr>\n",
       "    <tr>\n",
       "      <th>Haiti</th>\n",
       "      <td>0.176398</td>\n",
       "      <td>0.080300</td>\n",
       "    </tr>\n",
       "    <tr>\n",
       "      <th>Yugoslavia</th>\n",
       "      <td>0.044099</td>\n",
       "      <td>0.071378</td>\n",
       "    </tr>\n",
       "    <tr>\n",
       "      <th>Hong</th>\n",
       "      <td>0.058799</td>\n",
       "      <td>0.071378</td>\n",
       "    </tr>\n",
       "    <tr>\n",
       "      <th>Vietnam</th>\n",
       "      <td>0.223437</td>\n",
       "      <td>0.062455</td>\n",
       "    </tr>\n",
       "    <tr>\n",
       "      <th>Ecuador</th>\n",
       "      <td>0.108779</td>\n",
       "      <td>0.053533</td>\n",
       "    </tr>\n",
       "    <tr>\n",
       "      <th>Hungary</th>\n",
       "      <td>0.035280</td>\n",
       "      <td>0.053533</td>\n",
       "    </tr>\n",
       "    <tr>\n",
       "      <th>Dominican-Republic</th>\n",
       "      <td>0.270477</td>\n",
       "      <td>0.044611</td>\n",
       "    </tr>\n",
       "    <tr>\n",
       "      <th>Thailand</th>\n",
       "      <td>0.070559</td>\n",
       "      <td>0.044611</td>\n",
       "    </tr>\n",
       "    <tr>\n",
       "      <th>Peru</th>\n",
       "      <td>0.120539</td>\n",
       "      <td>0.035689</td>\n",
       "    </tr>\n",
       "    <tr>\n",
       "      <th>Columbia</th>\n",
       "      <td>0.229317</td>\n",
       "      <td>0.035689</td>\n",
       "    </tr>\n",
       "    <tr>\n",
       "      <th>Nicaragua</th>\n",
       "      <td>0.132298</td>\n",
       "      <td>0.026767</td>\n",
       "    </tr>\n",
       "    <tr>\n",
       "      <th>Guatemala</th>\n",
       "      <td>0.244017</td>\n",
       "      <td>0.026767</td>\n",
       "    </tr>\n",
       "    <tr>\n",
       "      <th>Honduras</th>\n",
       "      <td>0.049979</td>\n",
       "      <td>0.017844</td>\n",
       "    </tr>\n",
       "    <tr>\n",
       "      <th>Laos</th>\n",
       "      <td>0.055859</td>\n",
       "      <td>0.017844</td>\n",
       "    </tr>\n",
       "    <tr>\n",
       "      <th>Scotland</th>\n",
       "      <td>0.052919</td>\n",
       "      <td>0.017844</td>\n",
       "    </tr>\n",
       "    <tr>\n",
       "      <th>Trinadad&amp;Tobago</th>\n",
       "      <td>0.070559</td>\n",
       "      <td>0.017844</td>\n",
       "    </tr>\n",
       "    <tr>\n",
       "      <th>Outlying-US(Guam-USVI-etc)</th>\n",
       "      <td>0.061739</td>\n",
       "      <td>0.008922</td>\n",
       "    </tr>\n",
       "    <tr>\n",
       "      <th>Holand-Netherlands</th>\n",
       "      <td>0.002940</td>\n",
       "      <td>0.000000</td>\n",
       "    </tr>\n",
       "  </tbody>\n",
       "</table>\n",
       "</div>"
      ],
      "text/plain": [
       "income                          <=50K       >50K\n",
       "native-country                                  \n",
       "United-States               90.680308  93.219129\n",
       "Philippines                  0.585053   0.749465\n",
       "India                        0.249897   0.553176\n",
       "Canada                       0.302816   0.535332\n",
       "Germany                      0.396895   0.517488\n",
       "England                      0.211678   0.419343\n",
       "Mexico                       2.516611   0.419343\n",
       "China                        0.226377   0.321199\n",
       "Cuba                         0.291057   0.303355\n",
       "Italy                        0.196978   0.294433\n",
       "Japan                        0.170518   0.276588\n",
       "Taiwan                       0.088199   0.223055\n",
       "Iran                         0.099959   0.196288\n",
       "Puerto-Rico                  0.455695   0.178444\n",
       "Greece                       0.091139   0.160600\n",
       "South                        0.244017   0.160600\n",
       "Poland                       0.191098   0.142755\n",
       "France                       0.058799   0.142755\n",
       "Jamaica                      0.261657   0.124911\n",
       "Portugal                     0.146998   0.107066\n",
       "El-Salvador                  0.399835   0.098144\n",
       "Ireland                      0.076439   0.089222\n",
       "Cambodia                     0.049979   0.080300\n",
       "Haiti                        0.176398   0.080300\n",
       "Yugoslavia                   0.044099   0.071378\n",
       "Hong                         0.058799   0.071378\n",
       "Vietnam                      0.223437   0.062455\n",
       "Ecuador                      0.108779   0.053533\n",
       "Hungary                      0.035280   0.053533\n",
       "Dominican-Republic           0.270477   0.044611\n",
       "Thailand                     0.070559   0.044611\n",
       "Peru                         0.120539   0.035689\n",
       "Columbia                     0.229317   0.035689\n",
       "Nicaragua                    0.132298   0.026767\n",
       "Guatemala                    0.244017   0.026767\n",
       "Honduras                     0.049979   0.017844\n",
       "Laos                         0.055859   0.017844\n",
       "Scotland                     0.052919   0.017844\n",
       "Trinadad&Tobago              0.070559   0.017844\n",
       "Outlying-US(Guam-USVI-etc)   0.061739   0.008922\n",
       "Holand-Netherlands           0.002940   0.000000"
      ]
     },
     "execution_count": 361,
     "metadata": {},
     "output_type": "execute_result"
    }
   ],
   "source": [
    "#native-country\n",
    "crostab_native=pd.crosstab(values=df['age'], columns=df['income'], index=df['native-country'], \n",
    "                            aggfunc=lambda x: len(x), normalize='columns').sort_values('>50K', ascending=False)*100\n",
    "crostab_native"
   ]
  },
  {
   "cell_type": "code",
   "execution_count": 362,
   "metadata": {},
   "outputs": [
    {
     "data": {
      "image/png": "[encoded data removed]",
      "text/plain": [
       "<Figure size 432x288 with 1 Axes>"
      ]
     },
     "metadata": {
      "needs_background": "light"
     },
     "output_type": "display_data"
    }
   ],
   "source": [
    "crostab_native.plot(kind='bar')\n",
    "plt.xlabel('native-country')\n",
    "plt.ylabel('%')\n",
    "plt.title('Distribución de la varible native-country por grupo income')\n",
    "plt.show()"
   ]
  },
  {
   "cell_type": "code",
   "execution_count": 363,
   "metadata": {},
   "outputs": [
    {
     "data": {
      "text/html": [
       "<div>\n",
       "<style scoped>\n",
       "    .dataframe tbody tr th:only-of-type {\n",
       "        vertical-align: middle;\n",
       "    }\n",
       "\n",
       "    .dataframe tbody tr th {\n",
       "        vertical-align: top;\n",
       "    }\n",
       "\n",
       "    .dataframe thead th {\n",
       "        text-align: right;\n",
       "    }\n",
       "</style>\n",
       "<table border=\"1\" class=\"dataframe\">\n",
       "  <thead>\n",
       "    <tr style=\"text-align: right;\">\n",
       "      <th>marital-status</th>\n",
       "      <th>Never_married</th>\n",
       "      <th>Separated</th>\n",
       "      <th>married</th>\n",
       "    </tr>\n",
       "    <tr>\n",
       "      <th>relationship</th>\n",
       "      <th></th>\n",
       "      <th></th>\n",
       "      <th></th>\n",
       "    </tr>\n",
       "  </thead>\n",
       "  <tbody>\n",
       "    <tr>\n",
       "      <th>Husband</th>\n",
       "      <td>0.000000</td>\n",
       "      <td>0.000000</td>\n",
       "      <td>86.260918</td>\n",
       "    </tr>\n",
       "    <tr>\n",
       "      <th>Not-in-family</th>\n",
       "      <td>45.835046</td>\n",
       "      <td>52.420701</td>\n",
       "      <td>1.391007</td>\n",
       "    </tr>\n",
       "    <tr>\n",
       "      <th>Other-relative</th>\n",
       "      <td>5.617208</td>\n",
       "      <td>3.338898</td>\n",
       "      <td>1.058274</td>\n",
       "    </tr>\n",
       "    <tr>\n",
       "      <th>Own-child</th>\n",
       "      <td>40.169886</td>\n",
       "      <td>6.444073</td>\n",
       "      <td>0.845695</td>\n",
       "    </tr>\n",
       "    <tr>\n",
       "      <th>Unmarried</th>\n",
       "      <td>8.377860</td>\n",
       "      <td>37.796327</td>\n",
       "      <td>0.780997</td>\n",
       "    </tr>\n",
       "    <tr>\n",
       "      <th>Wife</th>\n",
       "      <td>0.000000</td>\n",
       "      <td>0.000000</td>\n",
       "      <td>9.663108</td>\n",
       "    </tr>\n",
       "  </tbody>\n",
       "</table>\n",
       "</div>"
      ],
      "text/plain": [
       "marital-status  Never_married  Separated    married\n",
       "relationship                                       \n",
       "Husband              0.000000   0.000000  86.260918\n",
       "Not-in-family       45.835046  52.420701   1.391007\n",
       "Other-relative       5.617208   3.338898   1.058274\n",
       "Own-child           40.169886   6.444073   0.845695\n",
       "Unmarried            8.377860  37.796327   0.780997\n",
       "Wife                 0.000000   0.000000   9.663108"
      ]
     },
     "execution_count": 363,
     "metadata": {},
     "output_type": "execute_result"
    }
   ],
   "source": [
    "#Tablación cruzada marital_status y relationship\n",
    "\n",
    "crostab_marital_relation=pd.crosstab(values=df1['age'], columns=df1['marital-status'], index=df1['relationship'], \n",
    "                            aggfunc=lambda x: len(x), normalize='columns')*100\n",
    "crostab_marital_relation"
   ]
  },
  {
   "cell_type": "markdown",
   "metadata": {},
   "source": [
    "De las variables categóricas, de acuerdo a las variaciones de sus distribuciones segmentadas por income. \n",
    "Las variables que permiten encontrar diferencias entre los dos grupos de ingresos son education, marital_status,\n",
    "occupation y sex. Se excluye a relationship porque esta correlacionado con el compartamiento de marital_status.\n",
    "La variable race no se contempla porque no se observa que las distribuciones sean significativamente diferentes\n",
    "en los grupos de ingresos."
   ]
  },
  {
   "cell_type": "code",
   "execution_count": 364,
   "metadata": {},
   "outputs": [
    {
     "data": {
      "text/html": [
       "<div>\n",
       "<style scoped>\n",
       "    .dataframe tbody tr th:only-of-type {\n",
       "        vertical-align: middle;\n",
       "    }\n",
       "\n",
       "    .dataframe tbody tr th {\n",
       "        vertical-align: top;\n",
       "    }\n",
       "\n",
       "    .dataframe thead th {\n",
       "        text-align: right;\n",
       "    }\n",
       "</style>\n",
       "<table border=\"1\" class=\"dataframe\">\n",
       "  <thead>\n",
       "    <tr style=\"text-align: right;\">\n",
       "      <th></th>\n",
       "      <th>capital_gain</th>\n",
       "      <th>education</th>\n",
       "      <th>marital-status</th>\n",
       "      <th>occupation</th>\n",
       "      <th>sex</th>\n",
       "      <th>income</th>\n",
       "    </tr>\n",
       "  </thead>\n",
       "  <tbody>\n",
       "    <tr>\n",
       "      <th>0</th>\n",
       "      <td>-0.146733</td>\n",
       "      <td>elementary_secondary</td>\n",
       "      <td>Never_married</td>\n",
       "      <td>Machine_op_inspct</td>\n",
       "      <td>Male</td>\n",
       "      <td>&lt;=50K</td>\n",
       "    </tr>\n",
       "    <tr>\n",
       "      <th>1</th>\n",
       "      <td>-0.146733</td>\n",
       "      <td>HS_grad</td>\n",
       "      <td>married</td>\n",
       "      <td>Farming_fishing</td>\n",
       "      <td>Male</td>\n",
       "      <td>&lt;=50K</td>\n",
       "    </tr>\n",
       "    <tr>\n",
       "      <th>2</th>\n",
       "      <td>-0.146733</td>\n",
       "      <td>associate</td>\n",
       "      <td>married</td>\n",
       "      <td>Other_service</td>\n",
       "      <td>Male</td>\n",
       "      <td>&gt;50K</td>\n",
       "    </tr>\n",
       "    <tr>\n",
       "      <th>3</th>\n",
       "      <td>0.877467</td>\n",
       "      <td>college</td>\n",
       "      <td>married</td>\n",
       "      <td>Machine_op_inspct</td>\n",
       "      <td>Male</td>\n",
       "      <td>&gt;50K</td>\n",
       "    </tr>\n",
       "    <tr>\n",
       "      <th>4</th>\n",
       "      <td>-0.146733</td>\n",
       "      <td>elementary_secondary</td>\n",
       "      <td>Never_married</td>\n",
       "      <td>Other_service</td>\n",
       "      <td>Male</td>\n",
       "      <td>&lt;=50K</td>\n",
       "    </tr>\n",
       "  </tbody>\n",
       "</table>\n",
       "</div>"
      ],
      "text/plain": [
       "   capital_gain             education marital-status         occupation   sex  \\\n",
       "0     -0.146733  elementary_secondary  Never_married  Machine_op_inspct  Male   \n",
       "1     -0.146733               HS_grad        married    Farming_fishing  Male   \n",
       "2     -0.146733             associate        married      Other_service  Male   \n",
       "3      0.877467               college        married  Machine_op_inspct  Male   \n",
       "4     -0.146733  elementary_secondary  Never_married      Other_service  Male   \n",
       "\n",
       "  income  \n",
       "0  <=50K  \n",
       "1  <=50K  \n",
       "2   >50K  \n",
       "3   >50K  \n",
       "4  <=50K  "
      ]
     },
     "execution_count": 364,
     "metadata": {},
     "output_type": "execute_result"
    }
   ],
   "source": [
    "#data de variables de interés para el modelo\n",
    "df2=df1[[\"capital_gain\",\"education\",\"marital-status\",\"occupation\",\"sex\",\"income\"]]\n",
    "df2.head()"
   ]
  },
  {
   "cell_type": "code",
   "execution_count": 365,
   "metadata": {},
   "outputs": [],
   "source": [
    "#categorizar variables\n",
    "object_columns = [x for x in df2.select_dtypes(include='object').columns if x != 'capital-gain']\n",
    "for objcol in object_columns:\n",
    "    df2[objcol] = df2[objcol].astype('category')"
   ]
  },
  {
   "cell_type": "code",
   "execution_count": 366,
   "metadata": {},
   "outputs": [
    {
     "name": "stdout",
     "output_type": "stream",
     "text": [
      "<class 'pandas.core.frame.DataFrame'>\n",
      "RangeIndex: 45222 entries, 0 to 45221\n",
      "Data columns (total 6 columns):\n",
      " #   Column          Non-Null Count  Dtype   \n",
      "---  ------          --------------  -----   \n",
      " 0   capital_gain    45222 non-null  float64 \n",
      " 1   education       45222 non-null  category\n",
      " 2   marital-status  45222 non-null  category\n",
      " 3   occupation      45222 non-null  category\n",
      " 4   sex             45222 non-null  category\n",
      " 5   income          45222 non-null  category\n",
      "dtypes: category(5), float64(1)\n",
      "memory usage: 575.1 KB\n"
     ]
    }
   ],
   "source": [
    "df2.info()"
   ]
  },
  {
   "cell_type": "code",
   "execution_count": 367,
   "metadata": {},
   "outputs": [],
   "source": [
    "post_df = df2.copy()"
   ]
  },
  {
   "cell_type": "code",
   "execution_count": 368,
   "metadata": {},
   "outputs": [],
   "source": [
    "#dummies education\n",
    "dummies = pd.get_dummies(post_df['education'])\n",
    "post_df = pd.concat([post_df, dummies], axis=1)\n",
    "post_df.drop(columns=['education', 'HS_grad'], inplace=True)"
   ]
  },
  {
   "cell_type": "code",
   "execution_count": 369,
   "metadata": {},
   "outputs": [],
   "source": [
    "#dummies marital-status\n",
    "dummies = pd.get_dummies(post_df['marital-status'])\n",
    "post_df = pd.concat([post_df, dummies], axis=1)\n",
    "post_df.drop(columns=['marital-status', 'married'], inplace=True)\n"
   ]
  },
  {
   "cell_type": "code",
   "execution_count": 370,
   "metadata": {},
   "outputs": [],
   "source": [
    "#dummies occupation\n",
    "dummies = pd.get_dummies(post_df['occupation'])\n",
    "post_df = pd.concat([post_df, dummies], axis=1)\n",
    "post_df.drop(columns=['occupation', 'Exec_managerial'], inplace=True)"
   ]
  },
  {
   "cell_type": "code",
   "execution_count": 371,
   "metadata": {},
   "outputs": [],
   "source": [
    "#Binarización de la variables sex e income\n",
    "post_df['sex'] = post_df['sex'].map({'Male': 1, 'Female': 0})\n",
    "post_df['income'] = post_df['income'].map({'<=50K':0, '>50K':1})"
   ]
  },
  {
   "cell_type": "code",
   "execution_count": 372,
   "metadata": {},
   "outputs": [
    {
     "data": {
      "text/html": [
       "<div>\n",
       "<style scoped>\n",
       "    .dataframe tbody tr th:only-of-type {\n",
       "        vertical-align: middle;\n",
       "    }\n",
       "\n",
       "    .dataframe tbody tr th {\n",
       "        vertical-align: top;\n",
       "    }\n",
       "\n",
       "    .dataframe thead th {\n",
       "        text-align: right;\n",
       "    }\n",
       "</style>\n",
       "<table border=\"1\" class=\"dataframe\">\n",
       "  <thead>\n",
       "    <tr style=\"text-align: right;\">\n",
       "      <th></th>\n",
       "      <th>capital_gain</th>\n",
       "      <th>sex</th>\n",
       "      <th>income</th>\n",
       "      <th>Bachelors</th>\n",
       "      <th>associate</th>\n",
       "      <th>college</th>\n",
       "      <th>elementary_secondary</th>\n",
       "      <th>postgraduate</th>\n",
       "      <th>Never_married</th>\n",
       "      <th>Separated</th>\n",
       "      <th>Adm_clerical</th>\n",
       "      <th>Craft_repair</th>\n",
       "      <th>Farming_fishing</th>\n",
       "      <th>Machine_op_inspct</th>\n",
       "      <th>Other_service</th>\n",
       "      <th>Prof_specialty</th>\n",
       "      <th>Sales</th>\n",
       "      <th>Tech_support</th>\n",
       "      <th>Transport_moving</th>\n",
       "    </tr>\n",
       "  </thead>\n",
       "  <tbody>\n",
       "    <tr>\n",
       "      <th>0</th>\n",
       "      <td>-0.146733</td>\n",
       "      <td>1</td>\n",
       "      <td>0</td>\n",
       "      <td>0</td>\n",
       "      <td>0</td>\n",
       "      <td>0</td>\n",
       "      <td>1</td>\n",
       "      <td>0</td>\n",
       "      <td>1</td>\n",
       "      <td>0</td>\n",
       "      <td>0</td>\n",
       "      <td>0</td>\n",
       "      <td>0</td>\n",
       "      <td>1</td>\n",
       "      <td>0</td>\n",
       "      <td>0</td>\n",
       "      <td>0</td>\n",
       "      <td>0</td>\n",
       "      <td>0</td>\n",
       "    </tr>\n",
       "    <tr>\n",
       "      <th>1</th>\n",
       "      <td>-0.146733</td>\n",
       "      <td>1</td>\n",
       "      <td>0</td>\n",
       "      <td>0</td>\n",
       "      <td>0</td>\n",
       "      <td>0</td>\n",
       "      <td>0</td>\n",
       "      <td>0</td>\n",
       "      <td>0</td>\n",
       "      <td>0</td>\n",
       "      <td>0</td>\n",
       "      <td>0</td>\n",
       "      <td>1</td>\n",
       "      <td>0</td>\n",
       "      <td>0</td>\n",
       "      <td>0</td>\n",
       "      <td>0</td>\n",
       "      <td>0</td>\n",
       "      <td>0</td>\n",
       "    </tr>\n",
       "    <tr>\n",
       "      <th>2</th>\n",
       "      <td>-0.146733</td>\n",
       "      <td>1</td>\n",
       "      <td>1</td>\n",
       "      <td>0</td>\n",
       "      <td>1</td>\n",
       "      <td>0</td>\n",
       "      <td>0</td>\n",
       "      <td>0</td>\n",
       "      <td>0</td>\n",
       "      <td>0</td>\n",
       "      <td>0</td>\n",
       "      <td>0</td>\n",
       "      <td>0</td>\n",
       "      <td>0</td>\n",
       "      <td>1</td>\n",
       "      <td>0</td>\n",
       "      <td>0</td>\n",
       "      <td>0</td>\n",
       "      <td>0</td>\n",
       "    </tr>\n",
       "    <tr>\n",
       "      <th>3</th>\n",
       "      <td>0.877467</td>\n",
       "      <td>1</td>\n",
       "      <td>1</td>\n",
       "      <td>0</td>\n",
       "      <td>0</td>\n",
       "      <td>1</td>\n",
       "      <td>0</td>\n",
       "      <td>0</td>\n",
       "      <td>0</td>\n",
       "      <td>0</td>\n",
       "      <td>0</td>\n",
       "      <td>0</td>\n",
       "      <td>0</td>\n",
       "      <td>1</td>\n",
       "      <td>0</td>\n",
       "      <td>0</td>\n",
       "      <td>0</td>\n",
       "      <td>0</td>\n",
       "      <td>0</td>\n",
       "    </tr>\n",
       "    <tr>\n",
       "      <th>4</th>\n",
       "      <td>-0.146733</td>\n",
       "      <td>1</td>\n",
       "      <td>0</td>\n",
       "      <td>0</td>\n",
       "      <td>0</td>\n",
       "      <td>0</td>\n",
       "      <td>1</td>\n",
       "      <td>0</td>\n",
       "      <td>1</td>\n",
       "      <td>0</td>\n",
       "      <td>0</td>\n",
       "      <td>0</td>\n",
       "      <td>0</td>\n",
       "      <td>0</td>\n",
       "      <td>1</td>\n",
       "      <td>0</td>\n",
       "      <td>0</td>\n",
       "      <td>0</td>\n",
       "      <td>0</td>\n",
       "    </tr>\n",
       "  </tbody>\n",
       "</table>\n",
       "</div>"
      ],
      "text/plain": [
       "   capital_gain sex income  Bachelors  associate  college  \\\n",
       "0     -0.146733   1      0          0          0        0   \n",
       "1     -0.146733   1      0          0          0        0   \n",
       "2     -0.146733   1      1          0          1        0   \n",
       "3      0.877467   1      1          0          0        1   \n",
       "4     -0.146733   1      0          0          0        0   \n",
       "\n",
       "   elementary_secondary  postgraduate  Never_married  Separated  Adm_clerical  \\\n",
       "0                     1             0              1          0             0   \n",
       "1                     0             0              0          0             0   \n",
       "2                     0             0              0          0             0   \n",
       "3                     0             0              0          0             0   \n",
       "4                     1             0              1          0             0   \n",
       "\n",
       "   Craft_repair  Farming_fishing  Machine_op_inspct  Other_service  \\\n",
       "0             0                0                  1              0   \n",
       "1             0                1                  0              0   \n",
       "2             0                0                  0              1   \n",
       "3             0                0                  1              0   \n",
       "4             0                0                  0              1   \n",
       "\n",
       "   Prof_specialty  Sales  Tech_support  Transport_moving  \n",
       "0               0      0             0                 0  \n",
       "1               0      0             0                 0  \n",
       "2               0      0             0                 0  \n",
       "3               0      0             0                 0  \n",
       "4               0      0             0                 0  "
      ]
     },
     "execution_count": 372,
     "metadata": {},
     "output_type": "execute_result"
    }
   ],
   "source": [
    "post_df.head()"
   ]
  },
  {
   "cell_type": "markdown",
   "metadata": {},
   "source": [
    "### 3.2 Regresión logística\n",
    "\n",
    "Se entrena el modelo de regresión logística y se hallan los métricas de rendimiento. El modelo tiene una exactitud (accurancy) del 0.8350 es decir, el 83.5% de las personas fueron clasificadas correctamente según sus ingresos anuales. Pero la sensibilidad es menor (recall), su capacidad de clasificar correctamente las personas con ingresos >50K cuando realmente reportan esos ingresos es del 54.6%. Lo cual sugiere el planteamiento del modelo de regresión logística con el balanceo de la muestra, ya que el 75% de las personas tienen ingresos <=50K, para comparar el rendimiento entre los modelos con o sin balanceo. Para efecto de demostrar el uso y análisis de las métricas de Fairness, se utilizará el modelo de regresión logística sin balanceo.   "
   ]
  },
  {
   "cell_type": "code",
   "execution_count": 373,
   "metadata": {},
   "outputs": [],
   "source": [
    "# Separación de X e Y.\n",
    "\n",
    "X = post_df.loc[:, post_df.columns != 'income']\n",
    "y = post_df.loc[:, post_df.columns == 'income']"
   ]
  },
  {
   "cell_type": "code",
   "execution_count": 374,
   "metadata": {},
   "outputs": [],
   "source": [
    "# Datos de entrenamiento y de prueba\n",
    "X_train, X_test, y_train, y_test = train_test_split(X, y, test_size=0.2, random_state=908)"
   ]
  },
  {
   "cell_type": "code",
   "execution_count": 375,
   "metadata": {},
   "outputs": [
    {
     "data": {
      "text/plain": [
       "LogisticRegressionCV(cv=10, random_state=908, solver='liblinear')"
      ]
     },
     "execution_count": 375,
     "metadata": {},
     "output_type": "execute_result"
    }
   ],
   "source": [
    "lr=LogisticRegressionCV(solver='liblinear', cv=10, random_state=908)\n",
    "lr.fit(X_train, np.ravel(y_train))"
   ]
  },
  {
   "cell_type": "markdown",
   "metadata": {},
   "source": [
    "Accuracy"
   ]
  },
  {
   "cell_type": "code",
   "execution_count": 376,
   "metadata": {},
   "outputs": [
    {
     "name": "stdout",
     "output_type": "stream",
     "text": [
      "Accuracy: 0.8350469872857933\n",
      "Recall: 0.5465532676812892\n",
      "F1: 0.6207422470767666\n"
     ]
    }
   ],
   "source": [
    "#Métricas modelo base\n",
    "\n",
    "y_pred_proba = lr.predict_proba(X_test)[:,1]\n",
    "y_pred = y_pred_proba >= 0.5\n",
    "\n",
    "print(f\"Accuracy: {accuracy_score(y_test, y_pred)}\")\n",
    "print(f\"Recall: {recall_score(y_test, y_pred)}\")\n",
    "print(f\"F1: {f1_score(y_test, y_pred)}\")"
   ]
  },
  {
   "cell_type": "markdown",
   "metadata": {},
   "source": [
    "Evaluación de las clasificaciones del modelo a través de las métricas Fairness"
   ]
  },
  {
   "cell_type": "code",
   "execution_count": null,
   "metadata": {},
   "outputs": [],
   "source": [
    "#Se clasifica la variable sexo en grupo privilegiado los hombres y no privilegiado las mujeres para establecer, \n",
    "#si el modelo de regresión logística tiende a favorecer más a los hombres dentro del grupo de ingresos >50K que a\n",
    "#las mujeres. Adicionalmente, se define la función get_aif_metrics, para obtener la métricas fairness; diferencia de paridad\n",
    "#estadística y la diferencia de tasa de error entre el grupo privilegiado y no privilegiado con las predicciones\n",
    "#halladas con la muestra de entrenamiento. "
   ]
  },
  {
   "cell_type": "code",
   "execution_count": 377,
   "metadata": {},
   "outputs": [],
   "source": [
    "# definir grupos privilegiados (1=hombres) y no privilegiados (0=mujeres).\n",
    "privileged_groups = [{'sex': 1}]\n",
    "unprivileged_groups = [{'sex': 0}]"
   ]
  },
  {
   "cell_type": "code",
   "execution_count": 112,
   "metadata": {},
   "outputs": [],
   "source": [
    "def get_aif_metrics(attr, df, label_names):\n",
    "\n",
    "    privileged_groups = [{attr: 1}]\n",
    "    unprivileged_groups = [{attr: 0}]\n",
    "\n",
    "    attributes_params = dict(protected_attribute_names=[attr], label_names=label_names)\n",
    "    dt = BinaryLabelDataset(df=df, **attributes_params, favorable_label=1, unfavorable_label=0)\n",
    "\n",
    "    metric = BinaryLabelDatasetMetric(dt,\n",
    "                                    unprivileged_groups=unprivileged_groups,\n",
    "                                    privileged_groups=privileged_groups)\n",
    "\n",
    "    return metric, dt"
   ]
  },
  {
   "cell_type": "code",
   "execution_count": 378,
   "metadata": {},
   "outputs": [],
   "source": [
    "y_train_pred_proba = lr.predict_proba(X_train)[:,1]\n",
    "y_train_pred = y_train_pred_proba >= 0.5"
   ]
  },
  {
   "cell_type": "code",
   "execution_count": 379,
   "metadata": {},
   "outputs": [],
   "source": [
    "df_pred = X_train.copy()\n",
    "df_pred['income'] = y_train_pred"
   ]
  },
  {
   "cell_type": "code",
   "execution_count": null,
   "metadata": {},
   "outputs": [],
   "source": [
    "#Métrica: Diferencia de paridad estadística. Es la diferencia entre las tasas de verdaderos positivos (TP/P) entre el grupo\n",
    "#no privilegiado ser mujer y el privilegiado ser hombre."
   ]
  },
  {
   "cell_type": "code",
   "execution_count": 380,
   "metadata": {},
   "outputs": [
    {
     "name": "stdout",
     "output_type": "stream",
     "text": [
      "Pred Statistical Parity Difference (sex): -0.20193230114825897\n"
     ]
    }
   ],
   "source": [
    "metric_sex_pred, pred_aifdf = get_aif_metrics('sex', df_pred, ['income'])\n",
    "print(f'Pred Statistical Parity Difference (sex): {metric_sex_pred.mean_difference()}')"
   ]
  },
  {
   "cell_type": "markdown",
   "metadata": {},
   "source": [
    "De acuerdo al indicador de diferencia de paridad estadística hay más propabilidades de que los hombres sean clasificados con ingresos >50K que las mujeres. Dos de cada diez hombres más que las mujeres. "
   ]
  },
  {
   "cell_type": "code",
   "execution_count": 381,
   "metadata": {},
   "outputs": [],
   "source": [
    "df_train = X_train.copy()\n",
    "df_train['income'] = y_train"
   ]
  },
  {
   "cell_type": "code",
   "execution_count": 382,
   "metadata": {},
   "outputs": [],
   "source": [
    "metric_sex_train, train_aifdf = get_aif_metrics('sex', df_train, ['income'])"
   ]
  },
  {
   "cell_type": "markdown",
   "metadata": {},
   "source": [
    "ClassificationMetric"
   ]
  },
  {
   "cell_type": "code",
   "execution_count": 383,
   "metadata": {},
   "outputs": [],
   "source": [
    "orig_vs_pred = ClassificationMetric(train_aifdf, pred_aifdf,\n",
    "                                                    unprivileged_groups=unprivileged_groups,\n",
    "                                                    privileged_groups=privileged_groups)"
   ]
  },
  {
   "cell_type": "code",
   "execution_count": null,
   "metadata": {},
   "outputs": [],
   "source": [
    "#Métrica: Error rate difference -Diferencias de las tasa de error entre el grupo sin privilegio y con privilegio \n",
    "# ERR=(FP+FN)/P+N"
   ]
  },
  {
   "cell_type": "code",
   "execution_count": 384,
   "metadata": {},
   "outputs": [
    {
     "name": "stdout",
     "output_type": "stream",
     "text": [
      "Error rate difference (unprivileged error rate - privileged error rate)= -0.11814789448924967\n",
      "\n"
     ]
    }
   ],
   "source": [
    "print(f'Error rate difference (unprivileged error rate - privileged error rate)= {orig_vs_pred.error_rate_difference()}\\n')"
   ]
  },
  {
   "cell_type": "code",
   "execution_count": 385,
   "metadata": {},
   "outputs": [
    {
     "name": "stdout",
     "output_type": "stream",
     "text": [
      "False negative rate for privileged groups = 0.4076458223857068\n",
      "False negative rate for unprivileged groups = 0.6130690161527166\n",
      "False negative rate ratio = 1.503925669015301\n",
      "\n",
      "False positive rate for privileged groups = 0.10620368156825245\n",
      "False positive rate for unprivileged groups = 0.013274758857797726\n",
      "False positive rate ratio = 0.12499339629075495\n"
     ]
    }
   ],
   "source": [
    "print(f'False negative rate for privileged groups = {orig_vs_pred.false_negative_rate(privileged=True)}')\n",
    "print(f'False negative rate for unprivileged groups = {orig_vs_pred.false_negative_rate(privileged=False)}')\n",
    "print(f'False negative rate ratio = {orig_vs_pred.false_negative_rate_ratio()}\\n')\n",
    "\n",
    "print(f'False positive rate for privileged groups = {orig_vs_pred.false_positive_rate(privileged=True)}')\n",
    "print(f'False positive rate for unprivileged groups = {orig_vs_pred.false_positive_rate(privileged=False)}')\n",
    "print(f'False positive rate ratio = {orig_vs_pred.false_positive_rate_ratio()}')"
   ]
  },
  {
   "cell_type": "markdown",
   "metadata": {},
   "source": [
    "El modelo genera mayores errores de estimación de clasificación en el grupo privilegiado debido a la tasa de falsos positivos. "
   ]
  },
  {
   "cell_type": "markdown",
   "metadata": {},
   "source": [
    "### 3.3 Aplicación Algoritmo EqOddsPostProcessing sobre las predicciones del modelo de regresión logística con los datos de testeo y cálculo de la métricas fairness\n",
    "\n",
    "Este algoritmo EqOddsPostProcessing se aplica para lograr la paridad en la tasa predictiva, es decir, la probabilidad de observación positiva de la variable objetivo entra las personas a las que se predice el resultado positivo es independiente de las subpoblaciones hombres y mujeres. "
   ]
  },
  {
   "cell_type": "code",
   "execution_count": 386,
   "metadata": {},
   "outputs": [],
   "source": [
    "#predicciones para los datos de prueba\n",
    "y_pred_proba = lr.predict_proba(X_test)[:,1]\n",
    "y_pred = y_pred_proba >= 0.5"
   ]
  },
  {
   "cell_type": "code",
   "execution_count": 387,
   "metadata": {},
   "outputs": [],
   "source": [
    "# Dataframe test con predicciones\n",
    "df_test_pred = X_test.copy()\n",
    "df_test_pred['income'] = y_pred\n",
    "\n",
    "# Dataframe test con etiquetas\n",
    "df_test = X_test.copy()\n",
    "df_test['income'] = y_test"
   ]
  },
  {
   "cell_type": "code",
   "execution_count": 388,
   "metadata": {},
   "outputs": [],
   "source": [
    "#Aplicación del algoritmo EqOddsPostProcessing\n",
    "from aif360.algorithms.postprocessing.eq_odds_postprocessing import EqOddsPostprocessing"
   ]
  },
  {
   "cell_type": "code",
   "execution_count": 389,
   "metadata": {},
   "outputs": [],
   "source": [
    "metric_sex_test_pred, test_pred_aifdf = get_aif_metrics('sex', df_test_pred, ['income'])\n",
    "_, test_aifdf = get_aif_metrics('sex', df_test, ['income'])"
   ]
  },
  {
   "cell_type": "code",
   "execution_count": 390,
   "metadata": {},
   "outputs": [
    {
     "data": {
      "text/plain": [
       "<aif360.algorithms.postprocessing.eq_odds_postprocessing.EqOddsPostprocessing at 0x7fe8ae343950>"
      ]
     },
     "execution_count": 390,
     "metadata": {},
     "output_type": "execute_result"
    }
   ],
   "source": [
    "roc = EqOddsPostprocessing(unprivileged_groups=unprivileged_groups,\n",
    "                                 privileged_groups=privileged_groups,\n",
    "                           seed = 103)\n",
    "roc.fit(test_aifdf, test_pred_aifdf)"
   ]
  },
  {
   "cell_type": "code",
   "execution_count": 391,
   "metadata": {},
   "outputs": [],
   "source": [
    "df = roc.predict(test_pred_aifdf)"
   ]
  },
  {
   "cell_type": "code",
   "execution_count": 392,
   "metadata": {},
   "outputs": [],
   "source": [
    "privileged_groups = [{'sex': 1}]\n",
    "unprivileged_groups = [{'sex': 0}]\n",
    "\n",
    "\n",
    "metric = BinaryLabelDatasetMetric(df,\n",
    "                                  unprivileged_groups=unprivileged_groups,\n",
    "                                  privileged_groups=privileged_groups)"
   ]
  },
  {
   "cell_type": "code",
   "execution_count": 393,
   "metadata": {},
   "outputs": [],
   "source": [
    "cm_pred_test_post = ClassificationMetric(test_aifdf, df,\n",
    "                             unprivileged_groups=unprivileged_groups,\n",
    "                             privileged_groups=privileged_groups)"
   ]
  },
  {
   "cell_type": "code",
   "execution_count": 394,
   "metadata": {},
   "outputs": [
    {
     "data": {
      "text/plain": [
       "0.014295397649381592"
      ]
     },
     "execution_count": 394,
     "metadata": {},
     "output_type": "execute_result"
    }
   ],
   "source": [
    "cm_pred_test_post.equal_opportunity_difference()"
   ]
  },
  {
   "cell_type": "code",
   "execution_count": null,
   "metadata": {},
   "outputs": [],
   "source": [
    "#METRICAS FAIRNESS CON LA IMPLEMENTACIÓN DEL ALGORITMO DE EqOddsPostprocessing"
   ]
  },
  {
   "cell_type": "code",
   "execution_count": null,
   "metadata": {},
   "outputs": [],
   "source": [
    "#Métrica: Diferencia de paridad estadística. "
   ]
  },
  {
   "cell_type": "code",
   "execution_count": 395,
   "metadata": {},
   "outputs": [
    {
     "data": {
      "text/plain": [
       "'Mean difference (mean label value on unprivileged instances - mean label value on privileged instances): -0.07092331682428081'"
      ]
     },
     "execution_count": 395,
     "metadata": {},
     "output_type": "execute_result"
    }
   ],
   "source": [
    "MetricTextExplainer(metric).mean_difference()"
   ]
  },
  {
   "cell_type": "markdown",
   "metadata": {},
   "source": [
    "ClassificationMetric"
   ]
  },
  {
   "cell_type": "code",
   "execution_count": 396,
   "metadata": {},
   "outputs": [],
   "source": [
    "orig_vs_pred = ClassificationMetric(test_aifdf, df,\n",
    "                                                    unprivileged_groups=unprivileged_groups,\n",
    "                                                    privileged_groups=privileged_groups)"
   ]
  },
  {
   "cell_type": "code",
   "execution_count": null,
   "metadata": {},
   "outputs": [],
   "source": [
    "#Métrica: Error rate difference -Diferencia de tasa de error - con la implementación del algoritmo de EqOddsPostprocessing"
   ]
  },
  {
   "cell_type": "code",
   "execution_count": 397,
   "metadata": {},
   "outputs": [
    {
     "name": "stdout",
     "output_type": "stream",
     "text": [
      "Error rate difference (unprivileged error rate - privileged error rate)= -0.10846233891467483\n",
      "\n"
     ]
    }
   ],
   "source": [
    "print(f'Error rate difference (unprivileged error rate - privileged error rate)= {orig_vs_pred.error_rate_difference()}\\n')"
   ]
  },
  {
   "cell_type": "code",
   "execution_count": 398,
   "metadata": {},
   "outputs": [
    {
     "name": "stdout",
     "output_type": "stream",
     "text": [
      "False negative rate for privileged groups = 0.5843279709392839\n",
      "False negative rate for unprivileged groups = 0.5700325732899023\n",
      "False negative rate ratio = 0.9755353185876037\n",
      "\n",
      "False positive rate for privileged groups = 0.07777255639097744\n",
      "False positive rate for unprivileged groups = 0.07397260273972603\n",
      "False positive rate ratio = 0.9511401729917643\n"
     ]
    }
   ],
   "source": [
    "print(f'False negative rate for privileged groups = {orig_vs_pred.false_negative_rate(privileged=True)}')\n",
    "print(f'False negative rate for unprivileged groups = {orig_vs_pred.false_negative_rate(privileged=False)}')\n",
    "print(f'False negative rate ratio = {orig_vs_pred.false_negative_rate_ratio()}\\n')\n",
    "\n",
    "print(f'False positive rate for privileged groups = {orig_vs_pred.false_positive_rate(privileged=True)}')\n",
    "print(f'False positive rate for unprivileged groups = {orig_vs_pred.false_positive_rate(privileged=False)}')\n",
    "print(f'False positive rate ratio = {orig_vs_pred.false_positive_rate_ratio()}')"
   ]
  },
  {
   "cell_type": "markdown",
   "metadata": {},
   "source": [
    "### 3.4 Métricas Fairness obtenidas con las predicciones realizadas con el modelo de regresión logística con los datos de testeo"
   ]
  },
  {
   "cell_type": "code",
   "execution_count": null,
   "metadata": {},
   "outputs": [],
   "source": [
    "#Métrica: Diferencia de paridad estadística"
   ]
  },
  {
   "cell_type": "code",
   "execution_count": 399,
   "metadata": {},
   "outputs": [],
   "source": [
    "privileged_groups = [{'sex': 1}]\n",
    "unprivileged_groups = [{'sex': 0}]"
   ]
  },
  {
   "cell_type": "code",
   "execution_count": 400,
   "metadata": {},
   "outputs": [],
   "source": [
    "attributes_params = dict(protected_attribute_names=['sex'], label_names=['income'])\n",
    "dt_test_pred = BinaryLabelDataset(df=df_test_pred, **attributes_params)"
   ]
  },
  {
   "cell_type": "code",
   "execution_count": 138,
   "metadata": {},
   "outputs": [],
   "source": [
    "metric_sex_train = BinaryLabelDatasetMetric(dt_test_pred,\n",
    "                                             unprivileged_groups=unprivileged_groups,\n",
    "                                             privileged_groups=privileged_groups)"
   ]
  },
  {
   "cell_type": "code",
   "execution_count": 401,
   "metadata": {},
   "outputs": [
    {
     "data": {
      "text/plain": [
       "'Mean difference (mean label value on unprivileged instances - mean label value on privileged instances): -0.1975830166220287'"
      ]
     },
     "execution_count": 401,
     "metadata": {},
     "output_type": "execute_result"
    }
   ],
   "source": [
    "MetricTextExplainer(metric_sex_train).mean_difference()"
   ]
  },
  {
   "cell_type": "markdown",
   "metadata": {},
   "source": [
    "ClassificationMetric"
   ]
  },
  {
   "cell_type": "code",
   "execution_count": 404,
   "metadata": {},
   "outputs": [],
   "source": [
    "metric_sex_pred, pred_aifdf = get_aif_metrics('sex', df_test_pred, ['income'])"
   ]
  },
  {
   "cell_type": "code",
   "execution_count": 405,
   "metadata": {},
   "outputs": [],
   "source": [
    "metric_sex_test, test_aifdf = get_aif_metrics('sex', df_test, ['income'])"
   ]
  },
  {
   "cell_type": "code",
   "execution_count": 406,
   "metadata": {},
   "outputs": [],
   "source": [
    "orig_vs_pred = ClassificationMetric(test_aifdf, pred_aifdf,\n",
    "                                                    unprivileged_groups=unprivileged_groups,\n",
    "                                                    privileged_groups=privileged_groups)"
   ]
  },
  {
   "cell_type": "code",
   "execution_count": null,
   "metadata": {},
   "outputs": [],
   "source": [
    "#Métrica: Error rate difference -Diferencia de tasa de error"
   ]
  },
  {
   "cell_type": "code",
   "execution_count": 407,
   "metadata": {},
   "outputs": [
    {
     "name": "stdout",
     "output_type": "stream",
     "text": [
      "Error rate difference (unprivileged error rate - privileged error rate)= -0.12272237632705618\n",
      "\n"
     ]
    }
   ],
   "source": [
    "print(f'Error rate difference (unprivileged error rate - privileged error rate)= {orig_vs_pred.error_rate_difference()}\\n')"
   ]
  },
  {
   "cell_type": "code",
   "execution_count": 408,
   "metadata": {},
   "outputs": [
    {
     "name": "stdout",
     "output_type": "stream",
     "text": [
      "False negative rate for privileged groups = 0.4276076803321225\n",
      "False negative rate for unprivileged groups = 0.6156351791530945\n",
      "False negative rate ratio = 1.4397196483349672\n",
      "\n",
      "False positive rate for privileged groups = 0.10244360902255639\n",
      "False positive rate for unprivileged groups = 0.016829745596868884\n",
      "False positive rate ratio = 0.16428302123916047\n"
     ]
    }
   ],
   "source": [
    "print(f'False negative rate for privileged groups = {orig_vs_pred.false_negative_rate(privileged=True)}')\n",
    "print(f'False negative rate for unprivileged groups = {orig_vs_pred.false_negative_rate(privileged=False)}')\n",
    "print(f'False negative rate ratio = {orig_vs_pred.false_negative_rate_ratio()}\\n')\n",
    "\n",
    "print(f'False positive rate for privileged groups = {orig_vs_pred.false_positive_rate(privileged=True)}')\n",
    "print(f'False positive rate for unprivileged groups = {orig_vs_pred.false_positive_rate(privileged=False)}')\n",
    "print(f'False positive rate ratio = {orig_vs_pred.false_positive_rate_ratio()}')"
   ]
  },
  {
   "cell_type": "markdown",
   "metadata": {},
   "source": [
    "### 4. Conclusiones"
   ]
  },
  {
   "cell_type": "markdown",
   "metadata": {},
   "source": [
    "-De acuerdo al indicador de diferencia de paridad estadística -0.2019, hay más propabilidades de que los hombres sean clasificados con el modelo de regresión en ingresos >50K que las mujeres. Dos de cada diez hombres más que las mujeres.\n",
    "Por otra parte, las diferencias entre las tasas de error de clasificación de los grupos mujeres (sin privilegio) y hombres(con privilegio) es de -0.1181, lo que indica que la tasa de error de clasificación en el grupo hombres es mayor que en el de las mujeres, producto de una mayor tasa de falsos positivos en el grupo hombres (10.62%) que en el de las mujeres (1.33%). Por otra parte, las tasas de falsos negativos es mayor en el grupo mujeres (61.31%) que en el de hombres (40.76%).\n",
    "\n",
    "-Con el algoritmo de mitigación de sesgo EqOddsPostProcessing aplicado a las predicciones del modelo de regresión logística, se logra igualar la probalidad de pertenecer a la clase privilegiada (>50K) dado que se pertenece al grupo hombre o mujer, teniendo en cuenta que el indicador de la diferencia de paridad estadística es igual a -0.07092.\n",
    "\n",
    "-Se reduce la diferencia de la tasa error de clasificación del modelo por efecto de la mitigación de sesgo aplicado. Se pasa de -0.1227 a -0.1085."
   ]
  }
 ],
 "metadata": {
  "kernelspec": {
   "display_name": "Python 3 (ipykernel)",
   "language": "python",
   "name": "python3"
  },
  "language_info": {
   "codemirror_mode": {
    "name": "ipython",
    "version": 3
   },
   "file_extension": ".py",
   "mimetype": "text/x-python",
   "name": "python",
   "nbconvert_exporter": "python",
   "pygments_lexer": "ipython3",
   "version": "3.10.1"
  }
 },
 "nbformat": 4,
 "nbformat_minor": 4
}
